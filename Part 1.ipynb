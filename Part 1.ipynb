{
 "cells": [
  {
   "cell_type": "code",
   "execution_count": null,
   "id": "1eaffe61",
   "metadata": {
    "scrolled": true
   },
   "outputs": [],
   "source": [
    "# To install only the requirements of this notebook, uncomment the lines below and run this cell\n",
    "\n",
    "# ===========================\n",
    "\n",
    "!pip install scikit-learn==1.0.1\n",
    "!pip install gensim==3.8.3\n",
    "!pip install nltk==3.6.5\n",
    "!pip install matplotlib==3.5.0\n",
    "!pip install beautifulsoup4==4.9.3\n",
    "!pip install numpy==1.19.5\n",
    "!pip install pandas==1.3.4\n",
    "\n",
    "# ==========================="
   ]
  },
  {
   "cell_type": "code",
   "execution_count": 1,
   "id": "b0d43d9e",
   "metadata": {},
   "outputs": [],
   "source": [
    "import string\n",
    "import pickle\n",
    "import nltk\n",
    "from nltk import pos_tag, word_tokenize\n",
    "from bs4 import BeautifulSoup as bsoup\n",
    "import pandas as pd\n",
    "import numpy as np\n",
    "from sklearn.neural_network import MLPRegressor\n",
    "\n",
    "labeled_data = 'labeled_10000.csv'"
   ]
  },
  {
   "cell_type": "code",
   "execution_count": 2,
   "id": "96386fe3",
   "metadata": {},
   "outputs": [],
   "source": [
    "import gensim.downloader as api\n",
    "\n",
    "word2vec = api.load('word2vec-google-news-300')"
   ]
  },
  {
   "cell_type": "code",
   "execution_count": null,
   "id": "670a33bc",
   "metadata": {
    "scrolled": true
   },
   "outputs": [],
   "source": [
    "nltk.download('popular')"
   ]
  },
  {
   "cell_type": "markdown",
   "id": "32b3f410",
   "metadata": {},
   "source": [
    "## Text Processing Functions"
   ]
  },
  {
   "cell_type": "code",
   "execution_count": null,
   "id": "babd7510",
   "metadata": {
    "scrolled": false
   },
   "outputs": [],
   "source": [
    "s = '<h1>Our company is focused on making the world a better place for Dogs</h1>'\n",
    "tokens = word_tokenize(s)\n",
    "tagged = pos_tag(tokens)\n",
    "tagged"
   ]
  },
  {
   "cell_type": "code",
   "execution_count": 3,
   "id": "c01c94a8",
   "metadata": {},
   "outputs": [
    {
     "data": {
      "text/plain": [
       "' hello aasdasd TEXT'"
      ]
     },
     "execution_count": 3,
     "metadata": {},
     "output_type": "execute_result"
    }
   ],
   "source": [
    "def clean_html(text):\n",
    "    return bsoup(text,'html.parser').get_text()\n",
    "\n",
    "clean_html('<div> hello <a>aasdasd</a> <img src=\"#\"/><h1>TEXT</h1></div>')"
   ]
  },
  {
   "cell_type": "code",
   "execution_count": 4,
   "id": "3238b374",
   "metadata": {},
   "outputs": [
    {
     "data": {
      "text/plain": [
       "' asdas  kjkljlkj!@#!@#!Kjkljk'"
      ]
     },
     "execution_count": 4,
     "metadata": {},
     "output_type": "execute_result"
    }
   ],
   "source": [
    "numeric_table = str.maketrans('', '', '0123456789')\n",
    "\n",
    "def remove_numeric(text:str):\n",
    "    return text.translate(numeric_table)\n",
    "    \n",
    "remove_numeric(' asdas 123123 kjkl123jl4k23j!@#!@#!K23j1kl23j1k23')"
   ]
  },
  {
   "cell_type": "code",
   "execution_count": 5,
   "id": "bbc79a2b",
   "metadata": {},
   "outputs": [
    {
     "data": {
      "text/plain": [
       "'kjkl123jl4k23jK23j1kl23j1k23'"
      ]
     },
     "execution_count": 5,
     "metadata": {},
     "output_type": "execute_result"
    }
   ],
   "source": [
    "punc_table = str.maketrans('', '', string.punctuation + '©')\n",
    "\n",
    "def remove_punc(text:str):\n",
    "    return text.translate(punc_table)\n",
    "    \n",
    "remove_punc('kjkl123jl4k23j!@#!@#!K23j1kl23j1k23')"
   ]
  },
  {
   "cell_type": "code",
   "execution_count": 6,
   "id": "43a7468f",
   "metadata": {
    "scrolled": true
   },
   "outputs": [
    {
     "name": "stdout",
     "output_type": "stream",
     "text": [
      "denied ->  deny\n",
      "talked ->  talk\n",
      "understood ->  understand\n",
      "<<k1lj23 ->  <<k1lj23\n"
     ]
    }
   ],
   "source": [
    "from nltk.corpus import wordnet as wn\n",
    "\n",
    "def get_lemma(word):\n",
    "    lemma = wn.morphy(word)\n",
    "    if lemma is None:\n",
    "        return word\n",
    "    else:\n",
    "        return lemma\n",
    "\n",
    "print('denied -> ', get_lemma('denied'))\n",
    "print('talked -> ', get_lemma('talked'))\n",
    "print('understood -> ', get_lemma('understood'))\n",
    "print('<<k1lj23 -> ', get_lemma('<<k1lj23'))"
   ]
  },
  {
   "cell_type": "code",
   "execution_count": 7,
   "id": "ea6427d8",
   "metadata": {},
   "outputs": [],
   "source": [
    "stopwords = nltk.corpus.stopwords.words('english')\n",
    "\n",
    "def normalize_text(text):\n",
    "    text = clean_html(text)\n",
    "    text = remove_punc(text)\n",
    "    text = remove_numeric(text)\n",
    "    tokens = word_tokenize(text)\n",
    "#    tokens = [get_lemma(t) for t in tokens]\n",
    "    tokens = [t for t in tokens if t.lower() not in stopwords]\n",
    "    tokens = [t for t in tokens if len(t) > 1]\n",
    "    return tokens"
   ]
  },
  {
   "cell_type": "markdown",
   "id": "2ed9779e",
   "metadata": {},
   "source": [
    "## Data Processing"
   ]
  },
  {
   "cell_type": "code",
   "execution_count": null,
   "id": "416ec299",
   "metadata": {},
   "outputs": [],
   "source": [
    "raw = pd.read_csv(labeled_data, usecols=['text', 'industry'])"
   ]
  },
  {
   "cell_type": "code",
   "execution_count": null,
   "id": "a3142e8a",
   "metadata": {},
   "outputs": [],
   "source": [
    "industries = set(raw.industry)\n",
    "len(industries)"
   ]
  },
  {
   "cell_type": "code",
   "execution_count": null,
   "id": "a3c30bf2",
   "metadata": {},
   "outputs": [],
   "source": [
    "raw['text_length'] = raw.text.apply(lambda x:len(str(x).split(' ')))"
   ]
  },
  {
   "cell_type": "code",
   "execution_count": null,
   "id": "a8e864e7",
   "metadata": {},
   "outputs": [],
   "source": [
    "raw.text_length.describe()"
   ]
  },
  {
   "cell_type": "code",
   "execution_count": null,
   "id": "a1d63473",
   "metadata": {},
   "outputs": [],
   "source": [
    "import matplotlib.pyplot as plt\n",
    "\n",
    "plt.hist(raw.text_length, bins=1000)\n",
    "plt.xlim(0,2000)\n",
    "plt.title('Phrase Length Distribution (Before normalization)')\n",
    "plt.xlabel('Number of text')\n",
    "plt.ylabel('Phrase length')\n",
    "plt.show()"
   ]
  },
  {
   "cell_type": "code",
   "execution_count": null,
   "id": "71be83cf",
   "metadata": {
    "scrolled": true
   },
   "outputs": [],
   "source": [
    "raw['normalized'] = raw.text.apply(lambda x:normalize_text(str(x)))"
   ]
  },
  {
   "cell_type": "code",
   "execution_count": null,
   "id": "a8c9fdfc",
   "metadata": {},
   "outputs": [],
   "source": [
    "raw['normalized'].head()"
   ]
  },
  {
   "cell_type": "code",
   "execution_count": null,
   "id": "148704f8",
   "metadata": {},
   "outputs": [],
   "source": [
    "word_industry = raw.explode('normalized')[['normalized', 'industry']]\n",
    "word_industry['lower'] = word_industry['normalized'].apply(lambda x:x.lower())\n",
    "word_industry"
   ]
  },
  {
   "cell_type": "code",
   "execution_count": null,
   "id": "a75e64da",
   "metadata": {},
   "outputs": [],
   "source": [
    "pair_count = word_industry[['industry', 'lower']].value_counts()\n",
    "pair_count[:20]"
   ]
  },
  {
   "cell_type": "code",
   "execution_count": null,
   "id": "8d6388e5",
   "metadata": {},
   "outputs": [],
   "source": [
    "from collections import defaultdict\n",
    "\n",
    "word_dist = defaultdict(dict)\n",
    "word_count = defaultdict(int)\n",
    "\n",
    "for (ind, w), count in pair_count.iteritems():\n",
    "    word_dist[w][ind] = count\n",
    "    word_count[w] += count\n",
    "\n",
    "w = 'football'\n",
    "print(f'The frequency of the word \"{w}\" in each industry')\n",
    "word_dist[w]"
   ]
  },
  {
   "cell_type": "code",
   "execution_count": null,
   "id": "496c5ccd",
   "metadata": {},
   "outputs": [],
   "source": [
    "def _score(word:str):\n",
    "    x = np.array(list(sorted(word_dist[word.lower()].copy().values())))\n",
    "    if len(x) > 1:\n",
    "        percentile = 0.90 * 100\n",
    "        x = x[x>=np.percentile(x, percentile)]\n",
    "        return max(x) / sum(x)\n",
    "    return 1\n",
    "\n",
    "def text_scores(text:list):\n",
    "    \"\"\"\n",
    "    calculated the score for each word in a text\n",
    "    score - the amount of information we retreive from the word about the industry\n",
    "    \n",
    "    trim the lower frequencies and calc max(y) / sum(y)\n",
    "    \"\"\"\n",
    "    score = {}\n",
    "    for w in text:\n",
    "        score[w] = _score(w)\n",
    "    return score\n",
    "\n",
    "text_scores(raw.normalized[9])"
   ]
  },
  {
   "cell_type": "code",
   "execution_count": null,
   "id": "047e3619",
   "metadata": {},
   "outputs": [],
   "source": [
    "_data = pd.DataFrame(raw['normalized'].copy().explode('normalized'))\n",
    "_data.rename(columns={'normalized': 'token'}, inplace=True)\n",
    "_data['token_lower'] = _data['token'].apply(lambda x:str(x).lower())\n",
    "_data.drop_duplicates(subset=['token_lower'], inplace=True)\n",
    "_data['score'] = _data['token_lower'].apply(_score)\n",
    "_data"
   ]
  },
  {
   "cell_type": "code",
   "execution_count": null,
   "id": "90f66c2e",
   "metadata": {},
   "outputs": [],
   "source": [
    "def w2v(w):\n",
    "    try:\n",
    "        v = word2vec[w]\n",
    "        return v\n",
    "    except KeyError:\n",
    "        return np.nan\n",
    "\n",
    "_data['word_vec'] = _data['token_lower'].apply(w2v)\n",
    "_data.dropna(subset=['word_vec'], inplace=True)\n",
    "_data"
   ]
  },
  {
   "cell_type": "markdown",
   "id": "eb9e41cd",
   "metadata": {},
   "source": [
    "### Multi-Layer Perceptron Regression\n",
    "\n",
    "Using scikit-learn MLPRegressor"
   ]
  },
  {
   "cell_type": "code",
   "execution_count": null,
   "id": "f113ce96",
   "metadata": {},
   "outputs": [],
   "source": [
    "from sklearn.neural_network import MLPRegressor"
   ]
  },
  {
   "cell_type": "code",
   "execution_count": null,
   "id": "42e715d5",
   "metadata": {},
   "outputs": [],
   "source": [
    "X = np.array(_data.word_vec.tolist())\n",
    "X.shape"
   ]
  },
  {
   "cell_type": "code",
   "execution_count": null,
   "id": "2507be5d",
   "metadata": {},
   "outputs": [],
   "source": [
    "y = _data.score\n",
    "y.shape"
   ]
  },
  {
   "cell_type": "code",
   "execution_count": null,
   "id": "e939ace1",
   "metadata": {},
   "outputs": [],
   "source": [
    "regr = MLPRegressor(hidden_layer_sizes=92, max_iter=300, verbose=True, tol=1e-5, learning_rate='adaptive')"
   ]
  },
  {
   "cell_type": "code",
   "execution_count": null,
   "id": "bd238e14",
   "metadata": {},
   "outputs": [],
   "source": [
    "regr.fit(X,y)"
   ]
  },
  {
   "cell_type": "code",
   "execution_count": null,
   "id": "71609ce3",
   "metadata": {},
   "outputs": [],
   "source": [
    "with open('model.sklearn', 'wb') as model_file:\n",
    "    pickle.dump(regr, model_file)"
   ]
  },
  {
   "cell_type": "code",
   "execution_count": null,
   "id": "3bf14e53",
   "metadata": {
    "scrolled": true
   },
   "outputs": [],
   "source": [
    "print(y[:5])\n",
    "print(regr.predict(X[:5]))"
   ]
  },
  {
   "cell_type": "code",
   "execution_count": null,
   "id": "b9c43090",
   "metadata": {},
   "outputs": [],
   "source": [
    "sample_text = raw.text[2000]\n",
    "_x = normalize_text(sample_text)\n",
    "print(\"Number of tokens in the text:\" , len(_x))\n",
    "print(\"Industry = \", raw.industry[2000])\n",
    "print(\"Text\")\n",
    "print(raw.text[2000])"
   ]
  },
  {
   "cell_type": "code",
   "execution_count": null,
   "id": "51a5f89b",
   "metadata": {},
   "outputs": [],
   "source": [
    "_X = pd.DataFrame()\n",
    "_X['token'] = _x\n",
    "_X['token_lower'] = _X.token.apply(lambda x:x.lower())\n",
    "_X.drop_duplicates(subset=['token_lower'], inplace=True)\n",
    "_X['word_vec'] = _X['token_lower'].apply(w2v)\n",
    "_X.dropna(subset=['word_vec'], inplace=True)\n",
    "_X['score'] = _X.word_vec.apply(lambda _v: float(regr.predict(_v.reshape(1,-1))))\n",
    "_X"
   ]
  },
  {
   "cell_type": "code",
   "execution_count": null,
   "id": "076385f3",
   "metadata": {},
   "outputs": [],
   "source": [
    "_X[['token', 'score']].sort_values(by=['score'], ascending=False).head(10)"
   ]
  },
  {
   "cell_type": "code",
   "execution_count": null,
   "id": "95fdc28e",
   "metadata": {},
   "outputs": [],
   "source": [
    "word_dist['starlight']"
   ]
  },
  {
   "cell_type": "code",
   "execution_count": 8,
   "id": "b2857182",
   "metadata": {},
   "outputs": [],
   "source": [
    "def w2v(w):\n",
    "    try:\n",
    "        v = word2vec[w]\n",
    "        return v\n",
    "    except KeyError:\n",
    "        return np.nan\n",
    "\n",
    "data = pd.read_csv('unlabeled.csv', usecols=['id', 'text'], nrows=10)\n",
    "data['normalized'] = data.text.apply(lambda x: normalize_text(str(x)))\n",
    "data = data.explode('normalized')\n",
    "data.rename(columns={'normalized': 'token'}, inplace=True)\n",
    "data['token_lower'] = data['token'].apply(lambda x:str(x).lower())\n",
    "data.drop_duplicates(subset=['id', 'token_lower'], inplace=True)\n",
    "data['word_vec'] = data['token_lower'].apply(w2v)\n",
    "data.dropna(subset=['word_vec'], inplace=True)\n",
    "data.reset_index(drop=True, inplace=True)\n",
    "\n",
    "with open('model_temp.sklearn', 'rb') as model_file:\n",
    "    regr = pickle.load(model_file)\n",
    "\n",
    "data['score'] = data.word_vec.apply(lambda _v: float(regr.predict(_v.reshape(1,-1))))"
   ]
  },
  {
   "cell_type": "code",
   "execution_count": 35,
   "id": "d60a07c2",
   "metadata": {},
   "outputs": [
    {
     "data": {
      "text/html": [
       "<div>\n",
       "<style scoped>\n",
       "    .dataframe tbody tr th:only-of-type {\n",
       "        vertical-align: middle;\n",
       "    }\n",
       "\n",
       "    .dataframe tbody tr th {\n",
       "        vertical-align: top;\n",
       "    }\n",
       "\n",
       "    .dataframe thead th {\n",
       "        text-align: right;\n",
       "    }\n",
       "</style>\n",
       "<table border=\"1\" class=\"dataframe\">\n",
       "  <thead>\n",
       "    <tr style=\"text-align: right;\">\n",
       "      <th></th>\n",
       "      <th>id</th>\n",
       "      <th>text</th>\n",
       "      <th>token</th>\n",
       "      <th>token_lower</th>\n",
       "      <th>word_vec</th>\n",
       "      <th>score</th>\n",
       "    </tr>\n",
       "  </thead>\n",
       "  <tbody>\n",
       "    <tr>\n",
       "      <th>0</th>\n",
       "      <td>1500001</td>\n",
       "      <td>Home-Luxury Move Management 0 Skip to Content ...</td>\n",
       "      <td>Move</td>\n",
       "      <td>move</td>\n",
       "      <td>[-0.061279297, 0.14355469, -0.2109375, 0.06884...</td>\n",
       "      <td>0.210412</td>\n",
       "    </tr>\n",
       "    <tr>\n",
       "      <th>1</th>\n",
       "      <td>1500001</td>\n",
       "      <td>Home-Luxury Move Management 0 Skip to Content ...</td>\n",
       "      <td>Management</td>\n",
       "      <td>management</td>\n",
       "      <td>[-0.15332031, 0.103515625, -0.08984375, -0.094...</td>\n",
       "      <td>0.080397</td>\n",
       "    </tr>\n",
       "    <tr>\n",
       "      <th>2</th>\n",
       "      <td>1500001</td>\n",
       "      <td>Home-Luxury Move Management 0 Skip to Content ...</td>\n",
       "      <td>Skip</td>\n",
       "      <td>skip</td>\n",
       "      <td>[0.20996094, 0.17578125, 0.13085938, 0.5, -0.0...</td>\n",
       "      <td>0.119760</td>\n",
       "    </tr>\n",
       "    <tr>\n",
       "      <th>3</th>\n",
       "      <td>1500001</td>\n",
       "      <td>Home-Luxury Move Management 0 Skip to Content ...</td>\n",
       "      <td>Content</td>\n",
       "      <td>content</td>\n",
       "      <td>[0.013305664, -0.0009994507, 0.080078125, 0.00...</td>\n",
       "      <td>0.386163</td>\n",
       "    </tr>\n",
       "    <tr>\n",
       "      <th>4</th>\n",
       "      <td>1500001</td>\n",
       "      <td>Home-Luxury Move Management 0 Skip to Content ...</td>\n",
       "      <td>Services</td>\n",
       "      <td>services</td>\n",
       "      <td>[-0.032714844, -0.010803223, 0.08691406, 0.033...</td>\n",
       "      <td>0.159546</td>\n",
       "    </tr>\n",
       "    <tr>\n",
       "      <th>...</th>\n",
       "      <td>...</td>\n",
       "      <td>...</td>\n",
       "      <td>...</td>\n",
       "      <td>...</td>\n",
       "      <td>...</td>\n",
       "      <td>...</td>\n",
       "    </tr>\n",
       "    <tr>\n",
       "      <th>2192</th>\n",
       "      <td>1500010</td>\n",
       "      <td>Energy Solutions Technology Loading... \\r \\r H...</td>\n",
       "      <td>Sorry</td>\n",
       "      <td>sorry</td>\n",
       "      <td>[-0.001876831, 0.20214844, 0.15136719, -0.1650...</td>\n",
       "      <td>0.447735</td>\n",
       "    </tr>\n",
       "    <tr>\n",
       "      <th>2193</th>\n",
       "      <td>1500010</td>\n",
       "      <td>Energy Solutions Technology Loading... \\r \\r H...</td>\n",
       "      <td>enable</td>\n",
       "      <td>enable</td>\n",
       "      <td>[-0.2578125, 0.026611328, 0.060791016, -0.0947...</td>\n",
       "      <td>0.151823</td>\n",
       "    </tr>\n",
       "    <tr>\n",
       "      <th>2194</th>\n",
       "      <td>1500010</td>\n",
       "      <td>Energy Solutions Technology Loading... \\r \\r H...</td>\n",
       "      <td>JavaScript</td>\n",
       "      <td>javascript</td>\n",
       "      <td>[-0.067871094, -0.41992188, -0.203125, 0.375, ...</td>\n",
       "      <td>0.199442</td>\n",
       "    </tr>\n",
       "    <tr>\n",
       "      <th>2195</th>\n",
       "      <td>1500010</td>\n",
       "      <td>Energy Solutions Technology Loading... \\r \\r H...</td>\n",
       "      <td>visit</td>\n",
       "      <td>visit</td>\n",
       "      <td>[-0.12597656, 0.12451172, 0.0035858154, 0.0156...</td>\n",
       "      <td>0.083575</td>\n",
       "    </tr>\n",
       "    <tr>\n",
       "      <th>2196</th>\n",
       "      <td>1500010</td>\n",
       "      <td>Energy Solutions Technology Loading... \\r \\r H...</td>\n",
       "      <td>website</td>\n",
       "      <td>website</td>\n",
       "      <td>[0.0012664795, -0.171875, -0.055908203, -0.224...</td>\n",
       "      <td>0.226622</td>\n",
       "    </tr>\n",
       "  </tbody>\n",
       "</table>\n",
       "<p>2197 rows × 6 columns</p>\n",
       "</div>"
      ],
      "text/plain": [
       "           id                                               text       token  \\\n",
       "0     1500001  Home-Luxury Move Management 0 Skip to Content ...        Move   \n",
       "1     1500001  Home-Luxury Move Management 0 Skip to Content ...  Management   \n",
       "2     1500001  Home-Luxury Move Management 0 Skip to Content ...        Skip   \n",
       "3     1500001  Home-Luxury Move Management 0 Skip to Content ...     Content   \n",
       "4     1500001  Home-Luxury Move Management 0 Skip to Content ...    Services   \n",
       "...       ...                                                ...         ...   \n",
       "2192  1500010  Energy Solutions Technology Loading... \\r \\r H...       Sorry   \n",
       "2193  1500010  Energy Solutions Technology Loading... \\r \\r H...      enable   \n",
       "2194  1500010  Energy Solutions Technology Loading... \\r \\r H...  JavaScript   \n",
       "2195  1500010  Energy Solutions Technology Loading... \\r \\r H...       visit   \n",
       "2196  1500010  Energy Solutions Technology Loading... \\r \\r H...     website   \n",
       "\n",
       "     token_lower                                           word_vec     score  \n",
       "0           move  [-0.061279297, 0.14355469, -0.2109375, 0.06884...  0.210412  \n",
       "1     management  [-0.15332031, 0.103515625, -0.08984375, -0.094...  0.080397  \n",
       "2           skip  [0.20996094, 0.17578125, 0.13085938, 0.5, -0.0...  0.119760  \n",
       "3        content  [0.013305664, -0.0009994507, 0.080078125, 0.00...  0.386163  \n",
       "4       services  [-0.032714844, -0.010803223, 0.08691406, 0.033...  0.159546  \n",
       "...          ...                                                ...       ...  \n",
       "2192       sorry  [-0.001876831, 0.20214844, 0.15136719, -0.1650...  0.447735  \n",
       "2193      enable  [-0.2578125, 0.026611328, 0.060791016, -0.0947...  0.151823  \n",
       "2194  javascript  [-0.067871094, -0.41992188, -0.203125, 0.375, ...  0.199442  \n",
       "2195       visit  [-0.12597656, 0.12451172, 0.0035858154, 0.0156...  0.083575  \n",
       "2196     website  [0.0012664795, -0.171875, -0.055908203, -0.224...  0.226622  \n",
       "\n",
       "[2197 rows x 6 columns]"
      ]
     },
     "execution_count": 35,
     "metadata": {},
     "output_type": "execute_result"
    }
   ],
   "source": [
    "data.reset_index(drop=True, inplace=True)\n",
    "data"
   ]
  },
  {
   "cell_type": "code",
   "execution_count": 39,
   "id": "0ee5ffc9",
   "metadata": {},
   "outputs": [
    {
     "data": {
      "text/plain": [
       "id           \n",
       "1500001  29      0.990873\n",
       "         78      0.986189\n",
       "         79      0.922461\n",
       "         34      0.918327\n",
       "         33      0.900953\n",
       "                   ...   \n",
       "1500010  1910    1.000615\n",
       "         2122    0.986283\n",
       "         1904    0.972004\n",
       "         1951    0.960539\n",
       "         1984    0.930361\n",
       "Name: score, Length: 100, dtype: float64"
      ]
     },
     "execution_count": 39,
     "metadata": {},
     "output_type": "execute_result"
    }
   ],
   "source": [
    "results = data.groupby(['id'])['score'].nlargest(10)\n",
    "results"
   ]
  },
  {
   "cell_type": "code",
   "execution_count": 49,
   "id": "210f77ef",
   "metadata": {},
   "outputs": [
    {
     "data": {
      "text/plain": [
       "'Content'"
      ]
     },
     "execution_count": 49,
     "metadata": {},
     "output_type": "execute_result"
    }
   ],
   "source": [
    "data.iloc[3].token"
   ]
  },
  {
   "cell_type": "code",
   "execution_count": 51,
   "id": "ae9d3326",
   "metadata": {},
   "outputs": [
    {
     "data": {
      "text/plain": [
       "defaultdict(list,\n",
       "            {1500001: ['downsizing',\n",
       "              'Unpacking',\n",
       "              'PreListing',\n",
       "              'divorcing',\n",
       "              'relocating',\n",
       "              'renovation',\n",
       "              'Agents',\n",
       "              'furniture',\n",
       "              'GTA',\n",
       "              'Estate'],\n",
       "             1500002: ['guaranty',\n",
       "              'Dewar',\n",
       "              'REITs',\n",
       "              'Lessors',\n",
       "              'insureds',\n",
       "              'Truckers',\n",
       "              'Corpus',\n",
       "              'Surety',\n",
       "              'Casualty',\n",
       "              'insurer'],\n",
       "             1500003: ['Valiant',\n",
       "              'ZA',\n",
       "              'Finders',\n",
       "              'ICO',\n",
       "              'Lawyers',\n",
       "              'PR',\n",
       "              'Elections',\n",
       "              'lawyer',\n",
       "              'Pierre',\n",
       "              'Islamic'],\n",
       "             1500004: ['recurring',\n",
       "              'USD',\n",
       "              'refund',\n",
       "              'original',\n",
       "              'returned',\n",
       "              'Buyer',\n",
       "              'works',\n",
       "              'vary',\n",
       "              'monthsLong',\n",
       "              'conversion'],\n",
       "             1500005: ['enthusiastically',\n",
       "              'contracting',\n",
       "              'Plot',\n",
       "              'wellrounded',\n",
       "              'Donald',\n",
       "              'leavers',\n",
       "              'installs',\n",
       "              'Contractors',\n",
       "              'sq',\n",
       "              'tutoring'],\n",
       "             1500006: ['lastminute',\n",
       "              'Facials',\n",
       "              'AMB',\n",
       "              'Brows',\n",
       "              'Freelancer',\n",
       "              'Lashes',\n",
       "              'Weaves',\n",
       "              'Tanning',\n",
       "              'Grooming',\n",
       "              'Beard'],\n",
       "             1500007: ['Robbery',\n",
       "              'Suppression',\n",
       "              'Escorts',\n",
       "              'Patrols',\n",
       "              'Cage',\n",
       "              'Intellectual',\n",
       "              'Compensation',\n",
       "              'Property',\n",
       "              'Litigation',\n",
       "              'Minority'],\n",
       "             1500008: ['widowed',\n",
       "              'CRS',\n",
       "              'divorced',\n",
       "              'sounding',\n",
       "              'freeing',\n",
       "              'CPA',\n",
       "              'custody',\n",
       "              'educations',\n",
       "              'attorney',\n",
       "              'equals'],\n",
       "             1500009: ['cynic',\n",
       "              'troops',\n",
       "              'scorecard',\n",
       "              'hinder',\n",
       "              'avert',\n",
       "              'avail',\n",
       "              'Tales',\n",
       "              'elses',\n",
       "              'complaining',\n",
       "              'drift'],\n",
       "             1500010: ['ESTs',\n",
       "              'Detracts',\n",
       "              'skids',\n",
       "              'Repertoire',\n",
       "              'adhoc',\n",
       "              'onshore',\n",
       "              'Addage',\n",
       "              'fabricates',\n",
       "              'Reagan',\n",
       "              'BHP']})"
      ]
     },
     "execution_count": 51,
     "metadata": {},
     "output_type": "execute_result"
    }
   ],
   "source": [
    "from collections import defaultdict\n",
    "\n",
    "output = defaultdict(list)\n",
    "\n",
    "for (key, score) in results.items():\n",
    "    doc_id = key[0]\n",
    "    row_id = key[1]\n",
    "    output[doc_id].append(data.iloc[row_id].token)\n",
    "\n",
    "output"
   ]
  },
  {
   "cell_type": "code",
   "execution_count": 55,
   "id": "b7dd1997",
   "metadata": {},
   "outputs": [
    {
     "data": {
      "text/plain": [
       "[{'id': 1500001,\n",
       "  'snippet': ['downsizing',\n",
       "   'Unpacking',\n",
       "   'PreListing',\n",
       "   'divorcing',\n",
       "   'relocating',\n",
       "   'renovation',\n",
       "   'Agents',\n",
       "   'furniture',\n",
       "   'GTA',\n",
       "   'Estate']},\n",
       " {'id': 1500002,\n",
       "  'snippet': ['guaranty',\n",
       "   'Dewar',\n",
       "   'REITs',\n",
       "   'Lessors',\n",
       "   'insureds',\n",
       "   'Truckers',\n",
       "   'Corpus',\n",
       "   'Surety',\n",
       "   'Casualty',\n",
       "   'insurer']},\n",
       " {'id': 1500003,\n",
       "  'snippet': ['Valiant',\n",
       "   'ZA',\n",
       "   'Finders',\n",
       "   'ICO',\n",
       "   'Lawyers',\n",
       "   'PR',\n",
       "   'Elections',\n",
       "   'lawyer',\n",
       "   'Pierre',\n",
       "   'Islamic']},\n",
       " {'id': 1500004,\n",
       "  'snippet': ['recurring',\n",
       "   'USD',\n",
       "   'refund',\n",
       "   'original',\n",
       "   'returned',\n",
       "   'Buyer',\n",
       "   'works',\n",
       "   'vary',\n",
       "   'monthsLong',\n",
       "   'conversion']},\n",
       " {'id': 1500005,\n",
       "  'snippet': ['enthusiastically',\n",
       "   'contracting',\n",
       "   'Plot',\n",
       "   'wellrounded',\n",
       "   'Donald',\n",
       "   'leavers',\n",
       "   'installs',\n",
       "   'Contractors',\n",
       "   'sq',\n",
       "   'tutoring']},\n",
       " {'id': 1500006,\n",
       "  'snippet': ['lastminute',\n",
       "   'Facials',\n",
       "   'AMB',\n",
       "   'Brows',\n",
       "   'Freelancer',\n",
       "   'Lashes',\n",
       "   'Weaves',\n",
       "   'Tanning',\n",
       "   'Grooming',\n",
       "   'Beard']},\n",
       " {'id': 1500007,\n",
       "  'snippet': ['Robbery',\n",
       "   'Suppression',\n",
       "   'Escorts',\n",
       "   'Patrols',\n",
       "   'Cage',\n",
       "   'Intellectual',\n",
       "   'Compensation',\n",
       "   'Property',\n",
       "   'Litigation',\n",
       "   'Minority']},\n",
       " {'id': 1500008,\n",
       "  'snippet': ['widowed',\n",
       "   'CRS',\n",
       "   'divorced',\n",
       "   'sounding',\n",
       "   'freeing',\n",
       "   'CPA',\n",
       "   'custody',\n",
       "   'educations',\n",
       "   'attorney',\n",
       "   'equals']},\n",
       " {'id': 1500009,\n",
       "  'snippet': ['cynic',\n",
       "   'troops',\n",
       "   'scorecard',\n",
       "   'hinder',\n",
       "   'avert',\n",
       "   'avail',\n",
       "   'Tales',\n",
       "   'elses',\n",
       "   'complaining',\n",
       "   'drift']},\n",
       " {'id': 1500010,\n",
       "  'snippet': ['ESTs',\n",
       "   'Detracts',\n",
       "   'skids',\n",
       "   'Repertoire',\n",
       "   'adhoc',\n",
       "   'onshore',\n",
       "   'Addage',\n",
       "   'fabricates',\n",
       "   'Reagan',\n",
       "   'BHP']}]"
      ]
     },
     "execution_count": 55,
     "metadata": {},
     "output_type": "execute_result"
    }
   ],
   "source": [
    "[{'id':key, 'snippet':tokens} for key, tokens in output.items()]"
   ]
  },
  {
   "cell_type": "code",
   "execution_count": 53,
   "id": "c1bed750",
   "metadata": {},
   "outputs": [
    {
     "name": "stdout",
     "output_type": "stream",
     "text": [
      "id,text,country,region,locality,founded,industry,size\r",
      "\r\n",
      "1500001,\"Home-Luxury Move Management 0 Skip to Content Our Services Company Our Team Testimonials FAQ Recent Projects Podcasts Real Estate Agents What's For Sale Contact Us 416-937-0499 Open Menu Close Menu Our Services Company Our Team Testimonials FAQ Recent Projects Podcasts Real Estate Agents What's For Sale Contact Us 416-937-0499 Open Menu Close Menu Our Services Folder: Company Back Our Team Testimonials FAQ Recent Projects Podcasts Real Estate Agents What's For Sale Contact Us 416-937-0499  MANAGEMENT SOLUTIONS FOR YOUR MOVELuxury Move Management provides solutions for your move from start to finish. Whether you are downsizing, undergoing a renovation, estate clearing, relocating, divorcing, moving into a condo, a new home or retirement residence, we have the experience to streamline your to-do list and make the entire experience more enjoyable. We currently service the GTA, Thornhill and Oakville.   Book An Appointment   Luxury Move Management has the team you want helping you with your move.We will get you organized and take care of all the daunting logistics that keep you up at night. We will help you sell your furniture and other unwanted items. If you’re feeling overwhelmed or too busy to manage your upcoming move, allow us to assist.Read Our Story  OUR SERVICES Explore Our Services   Packing and Unpacking Pre-Listing Preparation Estate Clearing Selling Unwanted Furniture Moving Supplies New Home Setup Trades Management Storage Management Moving Day Assistance  QUESTIONS? GIVE US A CALL. (416) 937-0499 Subscribe to Our Furniture Sale Newsletter Sign up with your name and email address to receive updates on what furniture we currently have for sale! First Name Last Name Email Address Subscribe! We respect your privacy. See our Privacy Policy. Thank you! COMPANYOur StoryTestimonialsGalleryFAQsMOVING SERVICESEstate ClearingPre-Listing PrepPacking and UnpackingSelling Unwanted FurnitureMoving SuppliesNew Residence Set-upTrades ManagementStorage ManagementMoving Day AssistanceCONTACT(416) 937-0499info@luxurymovemanagement.comSOCIAL MEDIA\",canada,ontario,toronto,2016.0,,1-10\r",
      "\r\n",
      "1500002,\"Specialty Insurance | Surety Bonds | Intact Insurance Specialty Solutions Customers ProducersCareersSpecialty Solutions Canada Report a Claim Login Customers Producer Partners Close Close Industries Arts & Entertainment Event Venues Fine Arts Media Motion Picture, TV & DICE Post Production Facilities Rental Houses Shell & Loan-Out Companies Theatrical Companies Touring Entertainers Youth Sports Construction Construction Contractors Environmental Contractors Equipment Installation Marine Contractors Educational Services Colleges & Universities Parents & Students Independent & Private Schools Environmental Consultants Finance & Insurance Business Development Companies Community Banks Credit Unions Hedge Funds Insurance Agents & Brokers Insurance Companies Investment Advisors Private Equity & Venture Capital REITs Savings & Loan Institutions Security Broker-dealers Healthcare Employers with Self-funded Medical Plans Healthcare Service Providers Medical Facilities Physicians & Physician Groups Importer / Exporter Life Science & Medical Technology Manufacturing General Manufacturing Marine Manufacturing Marine Importer / Exporter Marina Operators Marine Contractors Marine Manufacturing Water Transportation Yacht Clubs Yachts & Boats Media Public Administration Counties Emergency Response Fire Districts Municipality Real Estate Residential Property Lessors Non-Residential Property Lessors Surety Bonds Commercial Surety Bonds Contract Surety Bonds Technology Data processing, hosting providers and related services Information Technology Multinational Other Information Services Telecommunications Technology Manufacturing CleanTech & Solar Manufacturers Electronic Manufacturers Instrument Manufacturers Integration Contractors Telecommunications Transportation Nonrail Transit Truckers Water Transportation Independent Contractors Utilities Public Water & Sanitation Districts Wholesale Rental & Leasing Wholesalers Who We Are Get In Touch Online Products Our Businesses Can we help? Report a claim Billing options Online products Customer Login Producer Login About Us Who we are Leadership team Our businesses Social responsibility Diversity, Equity & Inclusion Keep informed Careers News & Insights Blog Contact Us Get in touch Become a Producer Relax We’re experts in protecting what makes your business special Why Intact Insurance Insurance? Your business is complex; no problem. Our experts are ready to craft targeted solutions designed to simplify your specialized insurance needs. Why Intact Insurance Specialty Solutions? Our claims and risk control specialists understand businesses like yours. And all of our products are backed by the financial strength of Atlantic Specialty Insurance Company, a subsidiary of IFC, rated “A+” (superior) by AM Best. Why Intact Insurance? Your business is complex; no problem. Our experts are ready to craft targeted solutions designed to simplify your specialized insurance needs. Close How Can We Help You? What is the status of my claim? Contact Claims Services: 877-248-3455 How can I get a copy of my policy? Contact Customer Service: 800-662-0156 Can I pay my premium online? See Billing Options Hear from our Industry Experts. News Release EIURS to add Intact Inland Marine products September 9, 2021 Philadelphia, Penn. (September 8, 2021) Energy, Industrial, and Utility Risk Solutions, LLC (EIURS), a subsidiary of leading specialty program manager DUAL North America, announced its new partnership with Intact Inland Marine, a brand of Intact Insurance Specialty Solutions (Intact) offering Inland Marine coverages for U.S. domiciled businesses in the energy, utility, environmental, and contractor industries. The Inland Marine product is now available alongside EIURS’ existing robust suite of products including Energy Casualty, Marine, Property, and Workers Compensation. This partnership, introduced by Corpus Partners, will provide EIURS’ clients with access to Intact Inland Marine’s product offerings. News Release Intact Insurance Specialty Solutions Awards Sixteen College Scholarships August 24, 2021 PLYMOUTH, Minn., Aug. 24, 2021 -- Intact Insurance Specialty Solutions, the brand for Intact Financial Corporation's (TSX: IFC) U.S. insurance company subsidiaries, has recently awarded sixteen $3,000 college scholarships: eight to the children and/or grandchildren of Intact employees, and eight to children and/or grandchildren of the company's distribution partners. Recipients were selected based on criteria such as academic performance, leadership roles and participation in school and community activities. In the News Carmen Duarte quoted in a news release by Insurance Industry Charitable Foundation August 18, 2021 Carmen Duarte, VP Marketing & Communications/Diversity & Inclusion Champion, at Intact Insurance Specialty Solutions, was recently quoted in a news release by Insurance Industry Charitable Foundation (IICF) announcing the proceeds from their annual Step Up Challenge in the spring. Intact was the presenting sponsor for the event that will benefit IICF’s Children’s Relief Fund. Click the link to read the news release. In the News A.W.G Dewar featured in New York Times article August 6, 2021 A.W.G Dewar, a leading provider of tuition reimbursement insurance, and its President Ragan Lower, were recently featured in a New York Times article on how college tuition insurance has gained attention during the pandemic. Click the link to read the article! Can we help? Report a claim Billing options Online products Customer Login Producer Login About Us Who we are Leadership team Our businesses Social responsibility Diversity, Equity & Inclusion Keep informed Careers News & Insights Blog Contact Us Get in touch Become a Producer Facebook Twitter LinkedIn YouTube Legal & Privacy Producer Compensation Disclosure Underwriting Companies © 2021Intact Insurance Group USA LLCIntact Insurance Specialty Solutions is the marketing brand for the insurance company subsidiaries of Intact Insurance Group USA LLC. Coverages may be underwritten by one of the following insurance companies: Atlantic Specialty Insurance Company, a New York insurer; Homeland Insurance Company of New York, a New York insurer; Homeland Insurance Company of Delaware, a Delaware insurer; OBI America Insurance Company, a Pennsylvania insurer; OBI National Insurance Company, a Pennsylvania insurer; or The Guarantee Company of North America USA, a Michigan insurer. Each of these insurers maintains its principal place of business at 605 Highway 169 N, Plymouth, MN 55441, except The Guarantee Company of North America USA, which is located at One Towne Square, Southfield, MI 48076. This material is intended as a general description of certain types of insurance coverages and services. Coverages and availability vary by state; exclusions and deductibles may apply. Please refer to your insurance policy or consult with your independent insurance advisor for information about coverages, terms and conditions. Some coverage may be written by a surplus lines insurer through a licensed surplus lines broker. Surplus lines insurers do not generally participate in state guaranty funds and insureds are therefore not protected by such funds.\",united states,minnesota,plymouth,,,1001-5000\r",
      "\r\n",
      "1500003,\"Home | The Association of International Property Professionals Looking to purchase property abroad? Unique support in buying & ownership AIPP supports the Alliance of International Property Owners – providing free knowledge, support, guides, inspiration and special offers to British buyers and owners of a foreign property Visit the Alliance website Menu Member loginBecome a memberFind a member Benefits of Membership Membership Enquiry Form Testimonials FAQs Become a Member Qualification requirements Membership Enquiry Form Membership Application Form Code of Conduct Dispute Resolution Procedure Testimonials Non-Member use of the AIPP logo FAQs Resources Member Directory AIPP Blog Legal Working Group Buyers and Owners Enquiry Form Lawyers About us People AIPP Advisory Board Complaints About Members Member loginBecome a memberFind a member Log in Username Password Forgot password? Not a member? Join now Forgotten password Enter username or email Cancel Not a member? Join now Close Looking to purchase property abroad? Unique support in buying & ownership AIPP supports the Alliance of International Property Owners – providing free knowledge, support, guides, inspiration and special offers to British buyers and owners of a foreign property Visit the Alliance website Association of International Property Professionals Improving standards for buyers of a foreign property Over 380 corporate members in 31 countries delivering consumer education & protection, industry best practice & business development. Based London, since 2006 Member BenefitsAbout AIPP Find members CategoryDeveloperEstate AgencyFinanceLawMarketingMediaServicesProperty Finders CountryAfghanistanAlbaniaAlgeriaAmerican SamoaAndorraAngolaAnguillaAntarcticaAntigua and BarbudaArgentinaArmeniaArubaAustraliaAustriaAzerbaijanBahamasBahrainBangladeshBarbadosBelarusBelgiumBelizeBeninBermudaBhutanBoliviaBosnia and HerzegovinaBotswanaBouvet IslandBrazilBritish Indian Ocean TerritoryBrunei DarussalamBulgariaBurkina FasoBurundiCambodiaCameroonCanadaCape VerdeCayman IslandsCentral African RepublicChadChileChinaChristmas IslandCocos (Keeling) IslandsColombiaComorosCongoCongo, the Democratic Republic of theCook IslandsCosta RicaCote d'IvoireCroatiaCubaCyprusCzech RepublicDenmarkDjiboutiDominicaDominican RepublicEast TimorEcuadorEgyptEl SalvadorEstoniaFalkland Islands (Malvinas)Faroe IslandsFijiFinlandFranceFrance, MetropolitanFrench GuianaFrench PolynesiaFrench Southern TerritoriesGabonGambiaGeorgiaGermanyGhanaGibraltarGreeceGreenlandGrenadaGuadeloupeGuamGuatemalaGuineaGuinea-BissauGuyanaHaitiHeard and McDonald IslandsHoly see (Vatican City State)HondurasHong KongHungaryIcelandIndiaIndonesiaIran (Islamic Republic of)IraqIrelandIsraelItalyJamaicaJapanJordanKazakhstanKenyaKiribatiKorea, Democratic People's Republic ofKorea, Republic ofKuwaitKyrgyzstanLao People's Democratic RepublicLatviaLebanonLesothoLiberiaLibyan Arab JamahiriyaLiechtensteinLithuaniaLuxembourgMacauMacedoniaMadagascarMalawiMalaysiaMaldivesMaliMaltaMarshall IslandsMartiniqueMauritaniaMauritiusMayotteMexicoMicronesia, Federated States ofMoldova, Republic ofMonacoMongoliaMontenegroMontserratMoroccoMozambiqueMyanmarNamibiaNauruNepalNetherlandsNetherlands AntillesNew CaledoniaNew ZealandNicaraguaNigerNigeriaNiueNorfolk IslandNorthern Mariana IslandsNorwayOmanPakistanPalauPalestinian Territory, occupiedPanamaPapua New GuineaParaguayPeruPhillipinesPitcairnPolandPortugalPuerto RicoQatarReunionRomaniaRussian FederationRwandaSaint Kitts and NevisSaint LuciaSaint Vincent and the GrenadinesSamoaSan MarinoSao Tome and PrincipeSaudi ArabiaSenegalSerbiaSeychellesSierra LeoneSingaporeSlovakiaSloveniaSolomon IslandsSomaliaSouth AfricaSouth Georgia and the South Sandwich IslandsSpainSri LankaSt LuciaSt. HelenaSt. Pierre and MiquelonSudanSurinameSvalbard and Jan Mayen IslandsSwazilandSwedenSwitzerlandSyrian Arab RepublicTaiwan, Republic of ChinaTajikistanTanzania, United Republic ofThailandTogoTokelauTongaTrinidad and TobagoTunisiaTurkeyTurkmenistanTurks and Caicos IslandsTuvaluUgandaUkraineUnited Arab EmiratesUnited KingdomUnited States minor outlying islandsUnited States of AmericaUruguayUzbekistanVanuatuVenezuelaVietnamVirgin Islands (British)Virgin Islands (U.S.)Wallis and Futana IslandsWestern SaharaYemenYugoslaviaZambiaZimbabwe Looking to purchase property abroad? Unique support in buying & ownership AIPP supports the Alliance of International Property Owners AIPO provides knowledge, support, inspiration and cost savings to buyers and owners of a foreign property Visit the Alliance website Over 380 AIPP corporate members in 30+ countries Agents, Developers, Lawyers, Media, Financial & other companies enjoy the assistance we give in presenting their services to buyers of a foreign property. Join AIPP and pledge your commitment to uphold professional values; helping you attract more clients & business partners. AIPP offers support in 3 distinct areas: Professional Credibility Sales Promotion & Client Leads Knowledge, Training & Community Resources View All Guide Act Now! General Data Protection Regulation (GDPR) AIPP Guide Read more Whitepaper AIPP White Paper - Guidelines for the sale of overseas land and property to buyers from the UK Read more Guide, Video GDPR Advice video: AIPP Member, Rightmove, lawyer interview Read more Do you inspire and deliver client confidence?Buyers of foreign property think the reputation of an agent / developer twice as important as the condition of the property they might buy* *Source: Rightmove portal UK Buyer research Member Testimonials Want to connect with other industry professionals?AIPP offers a range of networking solutions free to members; online & in-person Play video Want to connect with other industry professionals?AIPP offers a range of networking solutions free to members; online & in-person Play video Latest news View All AIPP Advisory Board Elections 2021 Read more What is cryptocurrency? Read more The 5 biggest PR mistakes and how to avoid them Read more The industry body. The industry voice. The industry standard. Association of International Property Professionals Ltd Email: enquiries@aipp.org.uk Telephone: +44 (0) 203 4883 952 Registered with the ICO (Information Commissioners Office) Reference: ZA334550 AIPP is registered at Companies House No. 5677417 Member Directory Privacy and Cookies Terms & Conditions Sitemap Site by Valiant This site uses cookies: Find out more.\",united kingdom,hampshire,fleet,2006.0,,1-10\r",
      "\r\n",
      "1500004,\"The domain name getroxo.com is for sale Excellent 4.7 out of 5 Buyer Protection ProgramWhen you buy a domain name at Dan.com, you’re automatically covered by our unique Buyer Protection Program. Read more about how we keep you safe on our Trust and Security page. Next to our secure domain ownership transfer process, we strictly monitor all transactions. If anything looks weird, we take immediate action. And if the seller doesn't deliver on their part of the deal, we refund you within 24 hours. Fast & easy transfers98% of all domain ownership transfers are completed within 24 hours. The seller first delivers the domain to us, then we send you your tailored transfer instructions. Need help? Our domain ownership transfer specialists will assist you at no additional cost. Hassle free paymentsPay by bank wire and get a 1% discount or use one of the most popular payment options available through our payment processor, Adyen. Adyen is the payment platform of choice for many leading tech companies like Uber & eBay.Estimated VAT overview )Value Added TaxThe Value Added Tax (VAT) is a consumption tax applied in the European Union (EU) to all goods and services.Who has to pay VAT? All consumers in the EU are charged VAT on the purchase of goods and services. Businesses in the EU buying from a business in the same country are also charged VAT. Businesses in the EU buying from a business in a different EU country are not charged VAT. Consumers and businesses outside of the European Union are not charged VAT. Is your VAT calculation wrong?The VAT rate provided on this page is only an estimation. It will be corrected during the checkout process after entering your billing details.VAT calculation exampleWhat do I pay?Costs in USDPrice excl. VATUSD $1,00021% VATUSD $210Total PriceUSD $1,210Estimate in USD )ConversionThis amount is an estimate based on the most recent currency conversion rate.Pricing estimate in USDWhat do I pay?Costs in USDPrice excl. VATUSD $9,9950% VATUSD $0Total PriceUSD $9,995Lease to Own conditionsUSD $217Monthly Payment60Months ) )Price overviewFull ownership after60 monthsLong term service fee30%Total purchase price 12,994 )Use the domain shortly after paymentAfter the first payment, our system automatically transfers the domain to our own holding registrar to keep it safe and available for you. Once the transfer is done (this can vary per domain since some registrars approve transfers only after 5 days) you can manage the DNS of the domain via your Buyer Control Panel. )Domain transfer after the final installment is paidWhen the final installment is paid for, we will assist you with transferring the domain to a registrar of your choice and changing the ownership records of the domain. )Stop at any timeYou can cancel an installment transaction whenever you want. This is only available for buyers. Sellers can’t cancel the contract, as long as you do not miss any final monthly payment deadline(s). When you opt to cancel a transaction, the received installments will be kept by the seller. You won’t receive the ownership of the domain and the domain will be returned to the original seller. )Long term service feeLong term service fee is a fee percentage added when you pick a period longer than 1 year. The fee is included in the price you see in the Lease to Own dialog.Pricing example of Lease to Own modelsDomain priceInstallmentsService fee$1,0001 - 12 months$0 (0%)$1,00013 - 24 months$100 (10%)$1,00025 - 36 months$200 (20%)$1,00037 - 60 months$300 (30%)What does the service fee cost cover?The service fee covers the transfer & renewal expenses of the domain, hosting DNS, providing support for years, and the recurring monthly payment processing expenses that Dan makes to facilitate this type of transaction. Read more )Estimate in USD )ConversionThis amount is an estimate based on the most recent currency conversion rate.Pricing estimate of Lease to Own model in USDWhat do I pay monthly?Costs in USDMonthly Price excl. VAT & service fee$Monthly service fee, excl. VAT$0% VAT$Monthly Total Price$ )The domain name getroxo.com is for sale!DSListed byDomain SellerGet this domainPay the full USD $9,995 now, or select Lease to OwnBuy nowUSD $9,995Lease to ownUSD $217/monthPick the price that matches your budget. USD $217Monthly Payment60Months ) )Full ownership after 60 months More informationNext ) )Free Ownership transfer )Free Transaction support )Secure paymentsDSListed byDomain SellerBuyer Protection programFast & easy transfersHassle free paymentsThe simple, safe way to buy domain namesNo matter what kind of domain you want to buy or lease, we make the transfer simple and safe.Here’s how it works )$9,995/now$217/monthBuy Privacy policy·Terms of use·Disclaimer·Sitemap·© 2021 Dan.com an Undeveloped BV subsidiary. All Rights Reserved.EnglishNederlandsEspañolहिंदीDeutschFrançais中文\",united states,michigan,sylvan lake,2010.0,,1-10\r",
      "\r\n",
      "1500005,\"DH Marrion | Providing electrical contracts to the commercial sector Home About Services Vacancies Projects Ashroyd Parkerknoll Ivanhoe Plot A3 Ivanhoe Plot C Goldthorpe School Contact Welcome to D.H Marrion Ltd Electrical Contractors D H Marrion Ltd is one of the region’s longest standing independent electrical contractors, providing electrical services for public and private sector customers in domestic, commercial, industrial and leisure markets. Established in 1948, D H Marrion Ltd has worked efficiently and enthusiastically with long standing partners and new customers alike to build its reputation as an award winning and successful electrical contractors. With a wide range of services D H Marrion Ltd has been operating for well over half a century to provide the best in electrical installations, and now installs modern, energy efficient lighting solutions nationwide. D H Marrion Ltd has the ability to incorporate the latest technology and a long-standing ethos of customer satisfaction and commitment to your project, providing a well-rounded and dependable service. Recent Project Ashroyd This project was a full design and build installation that included internal lighting for a 14,600 sq m warehouse and a 1,400 sq m office… READ MORE… ABOUT D.H. MArrion Ltd D H Marrion Ltd is an electrical contractors that was established in 1948 by Donald. H Marrion and continues to be a family run business, with the current managing director being his son Andrew Marrion. Based in Barnsley, South Yorkshire, the company has been working in the private and public sector for well over half a century, and in that time has built up a well respected reputation alongside accolades for its electrical design and build. find out more… Vacancies D H Marrion Ltd takes on electrical apprentices whether school leavers at the age of 16 or above. Successful applicants to the apprenticeship program can expect a high quality training in all types of electric installation due to our wide variety of contracts. The apprenticeship comes with tutoring at Doncaster or Rotherham college on a block release basis, alongside on-site supervision from highly qualified electricians, all whilst working for a NICEIC accredited electrical contracting firm. find out more… \t\t\t\t\t\t© Copyright 2016 D.H.Marrion Ltd | Terms & Conditions | Privacy | Contact\",united kingdom,barnsley,barnsley,,,1-10\r",
      "\r\n",
      "1500006,\"Mobile Makeup, Hair & Beauty Services Online | Book Beauty Professionals To Your Door About Blog Info About Blog Account Login Customer Sign up Become a supplier Explore Services Services Hair Make Up Nails Facials Aesthetics Brows & Lashes Hair Removal Bridal Tanning Massage Male Grooming Become a Supplier Concierge Contact Suppliers Hotels Events Legal Privacy Policy T&C's AMB Beauty - 2021© Sign up Login Book Appointment Concierge form Need an amb account? Sign up or Login GET YOUR BEAUTY ON DEMAND KEEP UPDATED WITH OUR LATEST BEAUTY Read more KEEP UPDATED WITH OUR LATEST BEAUTY Read more KEEP UPDATED WITH OUR LATEST BEAUTY Read more KEEP UPDATED WITH OUR LATEST BEAUTY Read more KEEP UPDATED WITH OUR LATEST BEAUTY Read more KEEP UPDATED WITH OUR LATEST BEAUTY Read more KEEP UPDATED WITH OUR LATEST BEAUTY Read more KEEP UPDATED WITH OUR LATEST BEAUTY Read more KEEP UPDATED WITH OUR LATEST BEAUTY Read more KEEP UPDATED WITH OUR LATEST BEAUTY Read more SERVICES Brows & Lashes Explore Explore Brows & Lashes LashesEyebrows Brows & Lashes Explore Make Up Explore Explore Make Up Artist Online MakeupTutorialsCommercialSpecial Effects Make Up Explore Aesthetics Explore Explore Aesthetics Cosmetic ProceduresSemi Permanent Makeup Aesthetics Explore Hair Explore Explore Mobile Hairdressing Services UK CutStylingColourWig, Extensions & Weaves Hair Explore Bridal Explore Explore Bridal Hair & Makeup Artists BridalBridal PartyAsian BridalGroom Bridal Explore Hair Removal Explore Explore Hair Removal Waxing Laser Hair Removal Explore Nails Explore Explore Nail Technicians Nail ExtensionsManicuresPedicure Nails Explore Tanning Explore Explore Tanning Spray Tan Tanning Explore Facials Explore Explore Facials FacialsCosmetic Facials Facials Explore Massage Explore Explore Massage Therapist Online MassageSpecialist MassageBody Treatments Massage Explore Male Grooming Explore Explore Male Grooming Beard & HairWaxing MakeupBrowsFacial Male Grooming Explore EXPLORE ALL SERVICES WHY BOOK? PERKS We’re Fast Beauty On Demand Book direct to your home, office or hotel room in a matter of seconds. We’re Trusted Safe and Secure All of our professionals are vetted and screened to ensure that you are in the safest hands. We’re Reliable Anytime, Anywhere AMB is available 24/7, even for those last-minute bookings. WE ARE BEAUTY ELITE About us Who are AMB? \"\"The online platform that allows you to book beauty professionals to your door - anytime, anywhere\"\" AMB is the one stop shop for first-class beauty services across the UK. We at AMB combine ultimate convenience with luxury by providing customers with on-demand beauty direct to their door. Explore our journey Got what it takes? Supply with us Mobile Freelancer Salon Based Home Salon Studio Based Hotel Services Events Apply Now Mobile Beauty Hotel Services AMB works with hotels across the UK to provide in-house 5* mobile beauty treatments to the comfort and privacy of your hotel room. Whether you are travelling with work, having a weekend away with friends or simply just looking for some ‘me time’. Explore Hotels Keep up to Date EVENTS & BLOGS Our News Keep updated with the latest beauty news Visit Blogs Our News Keep updated with the latest beauty news Visit Blogs Our Events Discover all of the latest beauty events Visit Events Follow Socials Login Customer Sign up Become Supplier Privacy Policy T&C's Sitemap AMB Beauty - 2021© We use Cookies to get the best experience for our users Accept\",united kingdom,nottingham,nottingham,2019.0,,1-10\r",
      "\r\n",
      "1500007,\"Norton Consulting & Investigation - Security, Investigations Norton Consulting & InvestigationsNorton Consulting & InvestigationsNorton Consulting & InvestigationsNorton Consulting & InvestigationsNorton Consulting & InvestigationsNorton Consulting & InvestigationsNorton Consulting & InvestigationsNorton Consulting & InvestigationsProtect and preserve Protect and preserve Protect and preserve Protect and preserve Contact About UsLicenses & CertificationsLicenses & CertificationsLicenses & CertificationsLicenses Nevada : 633 Arizona : 1625492 Washington : 1108 Certifications Services Disabled Veteran Owned Minority Owned Nevada Emerging Small Business DUNS: 073081221 Cage: 1WHQ6 NAICS 561612 561611 541990 541691 541690 441228 451110 Service SpecialtiesLicenses & CertificationsLicenses & CertificationsSecurity Services Armed/Unarmed Personnel Executive Protection Violence in the Work Place Security Patrols Robbery Suppression Executive Protection VIP Escorts Investigative Services Fraud Workers Compensation Intellectual Property Crime Surveillance  Litigation Loss Prevention Undercover Operations Technical Surveillance Counter Measures (TSCM) About UsLicenses & CertificationsAbout UsWe are a Service Disabled Veteran Owned Small Business with a leadership team that possess over 60 years of combined experience in investigation and security related projects for government, corporations, not-for-profit organizations, and private individuals.  Social SubscribeSign up to hear from us. Email Sign up Contact UsSendNameEmail*SendSend us a message with any Security or Investigations questions or concerns, and we'll get back to you with answers as soon as we can.Norton Consulting & Investigations8275 South Eastern Avenue, Suite 225, Las Vegas, Nevada 89123, United States702-531-1043 info@nortonci.com Copyright © 2020 Norton Consulting & Investigation - All Rights Reserved.Powered by GoDaddy\",united states,nevada,las vegas,,,11-50\r",
      "\r\n",
      "1500008,\"Laurel Wealth Planning financial advisors, Edina MN Home Who We Are Meet the Team Our Values Our History How We Help Our Focus Our Services FAQs Free consultation Learning Center Insights Resources Contact Us Search for: On your side. Always. Do you have worries and doubts about how to manage your money? You’re not alone. Working with financial advisors at Laurel Wealth Planning can help you feel more confident about your choices. As a full-service, fee-only firm, we guard your financial interests and keep an eye on your goals at all times. Consider us your sounding board and voice of reason, freeing you to live the life you want. We are your … Trusted advisor We go the extra mile to help you make difficult decisions and create plans for wealth preservation, financial independence, tax reduction, investments, estate planning and more. Thoughtful partner In our relationship with you, we listen for the heart of the matter. Understanding your preferences, priorities and passions drives our high-touch service, attention to detail and holistic approach. Responsible steward Like you, we do the right things for the right reasons. We empower you to leave a meaningful legacy that fits your values, whether through estate planning, socially responsible investing or charitable giving. If you were referred to us by a client, CPA or attorney, click here to see if we are a good fit for you. % of our clients are women decision-makers high team-member-to-client ratio equals high personal attention Years of combined experience on our investment committee Award-winning firm Learn More About Laurel Wealth Planning Serving women decision-makers Many of our clients are women with substantial financial resources, whether single, married, widowed or divorced. We often help clients navigate life transitions, such as a change in marital status or a transition to retirement and financial independence. Our clients want the freedom to do what makes them most deeply happy and want to leave a meaningful footprint in the world. They know that managing their wealth is an essential part of both goals. We help clients with decisions throughout life’s journey — buying property; funding children’s and grandchildren’s educations; planning for a fulfilling retirement; gifting to children; investing and giving according to clients’ personal ethics. Our financial advisors boil down the complexities of investments, tax reduction and other money management strategies and handle the details. This empowers clients to make the big decisions that are right for them. If you’ve ever wondered — “Am I doing the right things with my money?” or “How can I be a good steward of my money?” or “How do I prioritize and plan for my life goals?”  — we can help. How We Help Office Address 3300 Edinborough Way Suite 790 Edina, MN 55435 Phone Numbers Local: (952) 854-6250 Toll-Free: 1-877-212-6700 Fax: (952) 854-6276 INVESTOR ACCESS FollowFollow Newsletter Sign-Up Stay up to date on market trends and offers tips on wealth management. Success! Name Email Subscribe Privacy Notice Disclaimer Public Disclosure, Form ADV Parts 1, 2, 2b, and 3 (Form CRS) CAREERS While we are a completely independent firm, and can custody client money through any independent investment firm, we currently generally recommend to clients that their investments be custodied through Raymond James Financial Services, Inc. Raymond James is a diversified financial services holding company serving individuals, corporations, and municipalities throughout the U.S. and internationally. One of the first firms to focus on individual financial planning, Raymond James has consistently been ranked among the nation’s top financial firms. Not sure how to choose an Advisor?  Get our tips on how to make this important decision. Get Access Thank you. By supplying your email, you will also recieve our monthly newsletter, which you can unsubscribe from at any time.\",united states,minnesota,edina,1998.0,,1-10\r",
      "\r\n",
      "1500009,\"Audit and Recovery Services HomeServicesTroubled Project Rescue & RecoveryProgram & Project GuidanceProject Governance & DefinitionProject Execution StrategyProject Capabilities AssessmentIT Project Execution AssessmentProject Health Checks & AuditsProject Success Keynotes & Education EducationPresentationsKeynotesTrack SessionsCorporate Presentations & Workshops Classes & WorkshopsBooks & White PapersWhitepapersOur BooksOther's Books For Event Planners BlogAboutThe TeamCompany PhilosophyeJournalCalendar of EventsIn the PressWho's ListeningInterviewsRescue the Problem Project ReviewsPress ReleasesMedia Contact Login Register Follow Us Twitter Facebook RSS Linkedin Vision to ValueThrough Project Execution Perfection Most visions fail to reach maturity and achieve value not for lack of hard work, but because organizations lack focus, discipline, and the proper people to bring it to fruition. Projects are continually unable to meet the organizations needs managers apply more process and technology to no avail. Based on decades of experience, eCameron helps you look at issues and solve systemic problems that hinder your progress. Find Out More Project Rescue eCameron started as a project rescue company. Even though project rescue is still core to our business, creating successful projects from the start is far more exciting. We use all of our lessons learned to turn around a wayward project or prevent future disasters. Find Out More Strategy Definition, Alignment, and Implementation One of the primary reasons projects fail is because most or all of the project is not aligned with the organization’s strategy. Unfortunately, a well  defined strategy sometimes does not exist. eCameron will not only help you define it and do risk analysis, but we will also help you implement it. Find Out More Project Definition & Governance eCameron will help you define and setup the correct level of project governance to ensure that your projects are properly defined and monitored throughout the project lifecycle. Find Out More Capabilities Assessment To run repeatedly projects successfully you need the right mix of people, process, a then technology. Without that, success can be difficult to find. Every group in your company or organization needs to understand the direction, have the right people, and use the correct level of process for each and every project. One size does not fit all. Find Out More IT Assessment Nowhere is project failure more apparent than in technology projects. Core to this is your IT organization. Determining the gaps between what they can do and what your business needs, often takes an audit by an objective third party. Let our executives help you determine the gaps that need to be filled. Find Out More Project Health Checks and Audits “How can a project become a year late?  One day at a time.” Fredrick Brooks’ simple statement is so correct. Many start well planned and with the right team. As times progresses, though, your strategy can drift so can your project goals. They rarely drift in the same direction. Health checks and audits can determine whether the slow drift is taking your project toward the edge of failure long before it happens—giving you time to make course corrections. Find Out More Education, Workshops and Keynotes It seems like you never know enough. Be it formal training, mentoring, or coaching; maybe it is a workshop or a presentation, we have trained hundreds of people on how to avert project failure, change their processes, and look at your organization and projects differently. Find Out More High Risk Project Management Services Although our goal is to make you independent of our services, there are times when you simply need more help. Maybe it is for a high-risk project or one that is too critical to fail. We can step in and manage your project with you using our Executive PMs or provide senior PMs through one of our partners. Find Out More Project Success Failure is not an option. Project success is core to everything eCameron does. Without it, you will continue to struggle to turn your vision into value. To that end, our executive consultants provide services in the form of Service as a Product (SaaP), training, and consulting to help you build your organization’s capabilities. Find Out More Login Register to have access to our free templates and get our monthly newsletter. Username Password Log in \t\t\t\t\t\t\tForgot your password? \t\t\t\t\t\t\tForgot your username? \t\t\t\t\t\t\t\tCreate an account Remember Me\t\t\t\t \t\t\t\t Thank you! Close \t\t\t\t\tServices Our Servies eCameron provides fixed-price, list price (service as a product), and time & materials services that help you prevent project failure. \t\t\t\t\tEducation See What We Offer! Since making projects run better is all about educating people, we have a full range of Keynotes, Workshops, and classes to help you company, organization or Project improve. \t\t\t\t\tBack From Red Blog Read the Blog! We have over 100 articles in our blog whose topics range from strategy to project recovery, from people to technology, and more. \t\t\t\t\teCameron About Us Learn more about what we do and who we are. \tAuditing and Fixing Troubled Projects and Organizations\t \t\t\t\t\tProject Rescue & Recovery\t\t\t \r",
      " Do you have one or more troubled projects that are over burning cash, never seem to get closer to completion, or are your customers complaining that they do to like it? Everyone gets frustrated when projects go off the rails. The key is getting them back on track as soon as possible. Bringing in a specialist to rescue your problem project is easy and the cost is much less than continuing down the path you are currently on. \r",
      " \t\t\t\t\tWant to Run Projects Better?\t\t\t \r",
      " Do you feel that you can improve your project success rates? Does it just seem that you are not having the success you could? You can benefit from everyone else's grief. As we have fixed hundreds of failed projects we know what works and does not. Be it assessing your organization's capabilities, running project health checks, or providing program or project guidance. We can help you make your goals.\r",
      " \t\t\t\t\tKeynotes & Workshops\t\t\t \r",
      " Do you want to inspire your troops or educate your professional association members and do that in an entertaining manner? Fun, interactive and engaging keynotes and workshops are just what you need. Whether you need to learn more about balanced scorecard, organization change management, or how people and process affect success, we can help you out.\r",
      " Latest Articles on Project Success Strategy-Execution Gaps Written on Friday, 17 November 2017 15:35 \t\t\tThe statistics on strategy execution are dismal: 59% of middle managers fail at resolving conflicts in corporate strategy. 45% of middle managers cannot name one of the top five corporate…\t\t\t \t\t\t\t\t\tRead more...\t\t\t\t\t Success vs Culture Written on Thursday, 12 May 2016 12:20 \t\t\tThe other day a Latvian student contacted me for my views the connection between culture and success criteria—an important and intriguing topic. After working in Taiwan, Singapore, Korea, Japan, Israel,…\t\t\t \t\t\t\t\t\tRead more...\t\t\t\t\t Kill The White Knight Written on Sunday, 27 December 2015 17:26 \t\t\tThere is a reason we hesitate to teach classes on fixing failing projects. Many a cynic feels that we simply do not want to teach our trade, however, our reason…\t\t\t \t\t\t\t\t\tRead more...\t\t\t\t\t Tales of an Expert Witness: Sex, Lies, and Video Tape (Part II) Written on Wednesday, 02 December 2015 06:30 \t\t\tTrust relationships, certifications, and standards sound like such a safe harbor. These sound like such great words in a proposal or statement of work. How could you possibly go wrong…\t\t\t \t\t\t\t\t\tRead more...\t\t\t\t\t Subscribe to this RSS feed Copyright © 2021 eCameron, Inc. (eCaminc.com). All Rights Reserved.\",united states,washington,camas,2002.0,,1-10\r",
      "\r\n"
     ]
    }
   ],
   "source": [
    "!head unlabeled.csv"
   ]
  }
 ],
 "metadata": {
  "kernelspec": {
   "display_name": "Python 3 (ipykernel)",
   "language": "python",
   "name": "python3"
  },
  "language_info": {
   "codemirror_mode": {
    "name": "ipython",
    "version": 3
   },
   "file_extension": ".py",
   "mimetype": "text/x-python",
   "name": "python",
   "nbconvert_exporter": "python",
   "pygments_lexer": "ipython3",
   "version": "3.9.5"
  }
 },
 "nbformat": 4,
 "nbformat_minor": 5
}
