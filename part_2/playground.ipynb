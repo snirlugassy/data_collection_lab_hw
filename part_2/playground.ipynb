{
 "cells": [
  {
   "cell_type": "code",
   "execution_count": 1,
   "id": "caa0befc",
   "metadata": {},
   "outputs": [
    {
     "name": "stderr",
     "output_type": "stream",
     "text": [
      "[nltk_data] Downloading package stopwords to\n",
      "[nltk_data]     /home/snirlugassy/nltk_data...\n",
      "[nltk_data]   Package stopwords is already up-to-date!\n"
     ]
    }
   ],
   "source": [
    "\n",
    "import pickle\n",
    "import pandas as pd\n",
    "import numpy as np\n",
    "import nltk\n",
    "nltk.download('stopwords')\n",
    "\n",
    "CHUNK_SIZE = 50000\n",
    "STOPWORDS = nltk.corpus.stopwords.words('english')\n",
    "VECTORIZER_PICKLE = 'vectorizer.pkl'\n",
    "\n",
    "labeled_data = '../labeled.csv'\n",
    "\n",
    "data_types = {\n",
    "    # 'id': np.int64,\n",
    "    'text': str,\n",
    "    # 'country': str,\n",
    "    # 'region': str,\n",
    "    # 'locality': str,\n",
    "    # 'founded': np.float,\n",
    "    'industry': str,\n",
    "    # 'size': str\n",
    "}\n"
   ]
  },
  {
   "cell_type": "code",
   "execution_count": 2,
   "id": "43e381d0",
   "metadata": {},
   "outputs": [
    {
     "name": "stdout",
     "output_type": "stream",
     "text": [
      "Reading CSV file ../labeled.csv\n",
      "Replacing NaN text\n",
      "<class 'pandas.core.frame.DataFrame'>\n",
      "Int64Index: 750000 entries, 1152299 to 554424\n",
      "Data columns (total 2 columns):\n",
      " #   Column    Non-Null Count   Dtype \n",
      "---  ------    --------------   ----- \n",
      " 0   text      750000 non-null  object\n",
      " 1   industry  750000 non-null  object\n",
      "dtypes: object(2)\n",
      "memory usage: 6.2 GB\n"
     ]
    }
   ],
   "source": [
    "\n",
    "# for chunk in pd.read_csv(labeled_data, usecols=['text', 'industry'] ,dtype=data_types, chunksize=CHUNK_SIZE):\n",
    "#     chunk.text.replace(np.nan, \"\", inplace=True)\n",
    "#     print('Normalizing text...')\n",
    "#     chunk['normalized'] = normalize_text_series(chunk.text)\n",
    "\n",
    "#     print('Calculating word distribution over industries')\n",
    "#     word_industry = chunk.explode('normalized')[['normalized', 'industry']]\n",
    "#     word_industry['lower'] = word_industry['normalized'].apply(lambda x: str(x).lower())\n",
    "\n",
    "print(f'Reading CSV file {labeled_data}')\n",
    "data = pd.read_csv(labeled_data, usecols=['text', 'industry'] ,dtype=data_types, keep_default_na=False).sample(frac=0.5)\n",
    "\n",
    "print('Replacing NaN text')\n",
    "data.text.replace(np.nan, \"\", inplace=True)\n",
    "data.info(memory_usage='deep')"
   ]
  },
  {
   "cell_type": "code",
   "execution_count": 3,
   "id": "323dded6",
   "metadata": {},
   "outputs": [
    {
     "name": "stdout",
     "output_type": "stream",
     "text": [
      "Processing data for 147 industries\n"
     ]
    }
   ],
   "source": [
    "industries = data.industry.unique()\n",
    "num_of_industries = len(industries)\n",
    "print(f'Processing data for {num_of_industries} industries')"
   ]
  },
  {
   "cell_type": "code",
   "execution_count": 4,
   "id": "a64e0e19",
   "metadata": {},
   "outputs": [
    {
     "name": "stdout",
     "output_type": "stream",
     "text": [
      "Training TF-IDF Vectorizer\n"
     ]
    }
   ],
   "source": [
    "\n",
    "from sklearn.feature_extraction.text import TfidfVectorizer\n",
    "corpus = data.text\n",
    "\n",
    "# vectorizer = TfidfVectorizer(\n",
    "#     stop_words=STOPWORDS, \n",
    "#     strip_accents='ascii',\n",
    "#     sublinear_tf=True,\n",
    "#     smooth_idf=False\n",
    "# )\n",
    "\n",
    "vectorizer = TfidfVectorizer(\n",
    "    max_df=0.7,\n",
    "    strip_accents='ascii',\n",
    ")\n",
    "\n",
    "print('Training TF-IDF Vectorizer')\n",
    "X = vectorizer.fit_transform(corpus)\n",
    "\n",
    "print('Saving vectorizer to vectorizer.pkl')\n",
    "with open(\"vectorizer.pkl\", \"wb\") as f:\n",
    "    pickle.dump(vectorizer, f)"
   ]
  },
  {
   "cell_type": "code",
   "execution_count": 23,
   "id": "c269ec71",
   "metadata": {},
   "outputs": [],
   "source": [
    "from sklearn.cluster import KMeans, Birch, MiniBatchKMeans\n",
    "\n",
    "clustering = MiniBatchKMeans(\n",
    "    n_clusters=20,\n",
    "    batch_size=int(data.shape[0] / 10)    \n",
    ")\n",
    "\n",
    "y = clustering.fit_predict(X)\n",
    "data['cluster'] = y"
   ]
  },
  {
   "cell_type": "code",
   "execution_count": 24,
   "id": "1b010ea2",
   "metadata": {},
   "outputs": [
    {
     "name": "stdout",
     "output_type": "stream",
     "text": [
      "Calculating cluster majority per industry\n",
      "{'accounting': 2, 'airlines/aviation': 4, 'alternative dispute resolution': 4, 'alternative medicine': 8, 'animation': 4, 'apparel & fashion': 15, 'architecture & planning': 11, 'arts and crafts': 15, 'automotive': 13, 'aviation & aerospace': 4, 'banking': 14, 'biotechnology': 4, 'broadcast media': 4, 'building materials': 4, 'business supplies and equipment': 4, 'capital markets': 4, 'chemicals': 4, 'civic & social organization': 1, 'civil engineering': 11, 'commercial real estate': 0, 'computer & network security': 3, 'computer games': 4, 'computer hardware': 4, 'computer networking': 3, 'computer software': 3, 'construction': 11, 'consumer electronics': 4, 'consumer goods': 15, 'consumer services': 4, 'cosmetics': 15, 'dairy': 4, 'defense & space': 4, 'design': 4, 'e-learning': 14, 'education management': 5, 'electrical/electronic manufacturing': 4, 'entertainment': 4, 'environmental services': 4, 'events services': 1, 'executive office': 4, 'facilities services': 13, 'farming': 4, 'financial services': 14, 'fine art': 4, 'fishery': 4, 'food & beverages': 15, 'food production': 15, 'fund-raising': 1, 'furniture': 4, 'gambling & casinos': 4, 'glass, ceramics & concrete': 4, 'government administration': 1, 'government relations': 4, 'graphic design': 4, 'health, wellness and fitness': 8, 'higher education': 5, 'hospital & health care': 8, 'hospitality': 12, 'human resources': 14, 'import and export': 4, 'individual & family services': 1, 'industrial automation': 17, 'information services': 4, 'information technology and services': 3, 'insurance': 6, 'international affairs': 1, 'international trade and development': 4, 'internet': 4, 'investment banking': 14, 'investment management': 14, 'judiciary': 4, 'law enforcement': 1, 'law practice': 10, 'legal services': 10, 'legislative office': 1, 'leisure, travel & tourism': 12, 'libraries': 1, 'logistics and supply chain': 4, 'luxury goods & jewelry': 15, 'machinery': 17, 'management consulting': 14, 'maritime': 4, 'market research': 14, 'marketing and advertising': 7, 'mechanical or industrial engineering': 17, 'media production': 4, 'medical devices': 4, 'medical practice': 8, 'mental health care': 8, 'military': 4, 'mining & metals': 4, 'motion pictures and film': 4, 'museums and institutions': 1, 'music': 4, 'nanotechnology': 4, 'newspapers': 1, 'non-profit organization management': 1, 'oil & energy': 4, 'online media': 4, 'outsourcing/offshoring': 14, 'package/freight delivery': 4, 'packaging and containers': 4, 'paper & forest products': 4, 'performing arts': 1, 'pharmaceuticals': 4, 'philanthropy': 1, 'photography': 4, 'plastics': 17, 'political organization': 1, 'primary/secondary education': 5, 'printing': 4, 'professional training & coaching': 14, 'program development': 14, 'public policy': 1, 'public relations and communications': 4, 'public safety': 1, 'publishing': 4, 'railroad manufacture': 4, 'ranching': 4, 'real estate': 0, 'recreational facilities and services': 4, 'religious institutions': 1, 'renewables & environment': 4, 'research': 4, 'restaurants': 15, 'retail': 15, 'security and investigations': 3, 'semiconductors': 4, 'shipbuilding': 4, 'sporting goods': 15, 'sports': 1, 'staffing and recruiting': 14, 'supermarkets': 15, 'telecommunications': 3, 'textiles': 4, 'think tanks': 1, 'tobacco': 4, 'translation and localization': 4, 'transportation/trucking/railroad': 4, 'utilities': 17, 'venture capital & private equity': 14, 'veterinary': 8, 'warehousing': 4, 'wholesale': 4, 'wine and spirits': 15, 'wireless': 4, 'writing and editing': 4}\n",
      "cluster size in %: \n",
      " [ 1.36054422 13.60544218  0.68027211  4.08163265 46.2585034   2.04081633\n",
      "  0.68027211  0.68027211  4.08163265  0.          1.36054422  2.04081633\n",
      "  1.36054422  1.36054422  8.84353741  8.16326531  0.          3.40136054\n",
      "  0.          0.        ]\n"
     ]
    }
   ],
   "source": [
    "print('Calculating cluster majority per industry')\n",
    "cluster_ind = data[['cluster', 'industry']].groupby(['industry']).agg(lambda x:x.value_counts().index[0])\n",
    "cluster_ind = cluster_ind.cluster.to_dict()\n",
    "print(cluster_ind)\n",
    "\n",
    "_cluster_dist = np.zeros(20)\n",
    "for i,c in cluster_ind.items():\n",
    "    _cluster_dist[c] += 1\n",
    "_cluster_dist /= sum(_cluster_dist)\n",
    "print('cluster size in %: \\n' , _cluster_dist*100)"
   ]
  }
 ],
 "metadata": {
  "kernelspec": {
   "display_name": "Python 3 (ipykernel)",
   "language": "python",
   "name": "python3"
  },
  "language_info": {
   "codemirror_mode": {
    "name": "ipython",
    "version": 3
   },
   "file_extension": ".py",
   "mimetype": "text/x-python",
   "name": "python",
   "nbconvert_exporter": "python",
   "pygments_lexer": "ipython3",
   "version": "3.9.5"
  }
 },
 "nbformat": 4,
 "nbformat_minor": 5
}
