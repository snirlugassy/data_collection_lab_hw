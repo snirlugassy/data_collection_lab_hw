{
 "cells": [
  {
   "cell_type": "code",
   "execution_count": 1,
   "metadata": {},
   "outputs": [
    {
     "name": "stderr",
     "output_type": "stream",
     "text": [
      "[nltk_data] Downloading package stopwords to\n",
      "[nltk_data]     /home/lugassysnir/nltk_data...\n",
      "[nltk_data]   Package stopwords is already up-to-date!\n",
      "[nltk_data] Downloading package punkt to\n",
      "[nltk_data]     /home/lugassysnir/nltk_data...\n",
      "[nltk_data]   Package punkt is already up-to-date!\n"
     ]
    }
   ],
   "source": [
    "import pickle\n",
    "import pandas as pd\n",
    "import numpy as np\n",
    "from sklearn.feature_extraction.text import TfidfVectorizer\n",
    "\n",
    "# CONFIG\n",
    "VECTORIZER_PICKLE = 'vectorizer.pkl'\n",
    "INDUSTRIES_LIST = '../industries.txt'\n",
    "\n",
    "labeled_data = '../labeled.csv'\n",
    "\n",
    "data_types = {\n",
    "    'text': str,\n",
    "    'industry': str,\n",
    "}"
   ]
  },
  {
   "cell_type": "code",
   "execution_count": 2,
   "metadata": {},
   "outputs": [
    {
     "name": "stdout",
     "output_type": "stream",
     "text": [
      "Loading industries\n"
     ]
    },
    {
     "data": {
      "text/plain": [
       "['accounting',\n",
       " 'airlines/aviation',\n",
       " 'alternative dispute resolution',\n",
       " 'alternative medicine',\n",
       " 'animation',\n",
       " 'apparel & fashion',\n",
       " 'architecture & planning',\n",
       " 'arts and crafts',\n",
       " 'automotive',\n",
       " 'aviation & aerospace',\n",
       " 'banking',\n",
       " 'biotechnology',\n",
       " 'broadcast media',\n",
       " 'building materials',\n",
       " 'business supplies and equipment',\n",
       " 'capital markets',\n",
       " 'chemicals',\n",
       " 'civic & social organization',\n",
       " 'civil engineering',\n",
       " 'commercial real estate',\n",
       " 'computer & network security',\n",
       " 'computer games',\n",
       " 'computer hardware',\n",
       " 'computer networking',\n",
       " 'computer software',\n",
       " 'construction',\n",
       " 'consumer electronics',\n",
       " 'consumer goods',\n",
       " 'consumer services',\n",
       " 'cosmetics',\n",
       " 'dairy',\n",
       " 'defense & space',\n",
       " 'design',\n",
       " 'e-learning',\n",
       " 'education management',\n",
       " 'electrical/electronic manufacturing',\n",
       " 'entertainment',\n",
       " 'environmental services',\n",
       " 'events services',\n",
       " 'executive office',\n",
       " 'facilities services',\n",
       " 'farming',\n",
       " 'financial services',\n",
       " 'fine art',\n",
       " 'fishery',\n",
       " 'food & beverages',\n",
       " 'food production',\n",
       " 'fund-raising',\n",
       " 'furniture',\n",
       " 'gambling & casinos',\n",
       " 'glass, ceramics & concrete',\n",
       " 'government administration',\n",
       " 'government relations',\n",
       " 'graphic design',\n",
       " 'health, wellness and fitness',\n",
       " 'higher education',\n",
       " 'hospital & health care',\n",
       " 'hospitality',\n",
       " 'human resources',\n",
       " 'import and export',\n",
       " 'individual & family services',\n",
       " 'industrial automation',\n",
       " 'information services',\n",
       " 'information technology and services',\n",
       " 'insurance',\n",
       " 'international affairs',\n",
       " 'international trade and development',\n",
       " 'internet',\n",
       " 'investment banking',\n",
       " 'investment management',\n",
       " 'judiciary',\n",
       " 'law enforcement',\n",
       " 'law practice',\n",
       " 'legal services',\n",
       " 'legislative office',\n",
       " 'leisure, travel & tourism',\n",
       " 'libraries',\n",
       " 'logistics and supply chain',\n",
       " 'luxury goods & jewelry',\n",
       " 'machinery',\n",
       " 'management consulting',\n",
       " 'maritime',\n",
       " 'market research',\n",
       " 'marketing and advertising',\n",
       " 'mechanical or industrial engineering',\n",
       " 'media production',\n",
       " 'medical devices',\n",
       " 'medical practice',\n",
       " 'mental health care',\n",
       " 'military',\n",
       " 'mining & metals',\n",
       " 'motion pictures and film',\n",
       " 'museums and institutions',\n",
       " 'music',\n",
       " 'nanotechnology',\n",
       " 'newspapers',\n",
       " 'non-profit organization management',\n",
       " 'oil & energy',\n",
       " 'online media',\n",
       " 'outsourcing/offshoring',\n",
       " 'package/freight delivery',\n",
       " 'packaging and containers',\n",
       " 'paper & forest products',\n",
       " 'performing arts',\n",
       " 'pharmaceuticals',\n",
       " 'philanthropy',\n",
       " 'photography',\n",
       " 'plastics',\n",
       " 'political organization',\n",
       " 'primary/secondary education',\n",
       " 'printing',\n",
       " 'professional training & coaching',\n",
       " 'program development',\n",
       " 'public policy',\n",
       " 'public relations and communications',\n",
       " 'public safety',\n",
       " 'publishing',\n",
       " 'railroad manufacture',\n",
       " 'ranching',\n",
       " 'real estate',\n",
       " 'recreational facilities and services',\n",
       " 'religious institutions',\n",
       " 'renewables & environment',\n",
       " 'research',\n",
       " 'restaurants',\n",
       " 'retail',\n",
       " 'security and investigations',\n",
       " 'semiconductors',\n",
       " 'shipbuilding',\n",
       " 'sporting goods',\n",
       " 'sports',\n",
       " 'staffing and recruiting',\n",
       " 'supermarkets',\n",
       " 'telecommunications',\n",
       " 'textiles',\n",
       " 'think tanks',\n",
       " 'tobacco',\n",
       " 'translation and localization',\n",
       " 'transportation/trucking/railroad',\n",
       " 'utilities',\n",
       " 'venture capital & private equity',\n",
       " 'veterinary',\n",
       " 'warehousing',\n",
       " 'wholesale',\n",
       " 'wine and spirits',\n",
       " 'wireless',\n",
       " 'writing and editing']"
      ]
     },
     "execution_count": 2,
     "metadata": {},
     "output_type": "execute_result"
    }
   ],
   "source": [
    "print('Loading industries')\n",
    "industries = [x.strip() for x in open(INDUSTRIES_LIST,'r').readlines()]\n",
    "industries"
   ]
  },
  {
   "cell_type": "code",
   "execution_count": 3,
   "metadata": {},
   "outputs": [
    {
     "name": "stdout",
     "output_type": "stream",
     "text": [
      "Reading data\n",
      "Number of samples texts:  1500000\n"
     ]
    }
   ],
   "source": [
    "print('Reading data')\n",
    "data = pd.read_csv(labeled_data, usecols=['text', 'industry'], dtype=data_types, engine='c')\n",
    "print('Number of samples texts: ', len(data))"
   ]
  },
  {
   "cell_type": "code",
   "execution_count": 4,
   "metadata": {},
   "outputs": [
    {
     "name": "stdout",
     "output_type": "stream",
     "text": [
      "Normalizing data\n"
     ]
    }
   ],
   "source": [
    "print('Normalizing data')\n",
    "data.text.replace(np.nan, \"\", inplace=True)"
   ]
  },
  {
   "cell_type": "code",
   "execution_count": 5,
   "metadata": {},
   "outputs": [
    {
     "name": "stdout",
     "output_type": "stream",
     "text": [
      "Training TF-IDF Vectorizer\n"
     ]
    },
    {
     "data": {
      "text/plain": [
       "TfidfVectorizer(max_df=0.7, min_df=0.0001, strip_accents='ascii',\n",
       "                token_pattern='(?u)\\\\b\\\\w\\\\w\\\\w+\\\\b')"
      ]
     },
     "execution_count": 5,
     "metadata": {},
     "output_type": "execute_result"
    }
   ],
   "source": [
    "print('Training TF-IDF Vectorizer')\n",
    "corpus = data.text\n",
    "vectorizer = TfidfVectorizer(token_pattern=r'(?u)\\b\\w\\w\\w+\\b', strip_accents='ascii', max_df=0.7, min_df=1e-4)\n",
    "vectorizer.fit(corpus)"
   ]
  },
  {
   "cell_type": "code",
   "execution_count": 6,
   "metadata": {},
   "outputs": [
    {
     "name": "stdout",
     "output_type": "stream",
     "text": [
      "Saving vectorizer to vectorizer.pkl\n"
     ]
    }
   ],
   "source": [
    "print(f'Saving vectorizer to {VECTORIZER_PICKLE}')\n",
    "with open(VECTORIZER_PICKLE, \"wb\") as f:\n",
    "    pickle.dump(vectorizer, f)"
   ]
  },
  {
   "cell_type": "code",
   "execution_count": 7,
   "metadata": {},
   "outputs": [
    {
     "data": {
      "text/plain": [
       "67092"
      ]
     },
     "execution_count": 7,
     "metadata": {},
     "output_type": "execute_result"
    }
   ],
   "source": [
    "len(vectorizer.get_feature_names_out())"
   ]
  },
  {
   "cell_type": "code",
   "execution_count": null,
   "metadata": {},
   "outputs": [],
   "source": [
    "%%time\n",
    "means = []\n",
    "industry_mean = {}\n",
    "for industry, df in data.groupby('industry'):\n",
    "    print(industry, df.shape)\n",
    "    %time X = vectorizer.transform(df.text)\n",
    "    _mean = X.mean(axis=0)\n",
    "    means.append(_mean)\n",
    "    industry_mean[industry] = _mean\n",
    "means = np.stack([industry_mean[i] for i in industries])"
   ]
  },
  {
   "cell_type": "code",
   "execution_count": null,
   "metadata": {},
   "outputs": [],
   "source": [
    "print('Saving industry mean vector to ind_mean_vec.pkl')\n",
    "with open('ind_mean_vec.pkl', \"wb\") as f:\n",
    "    pickle.dump(industry_mean, f)"
   ]
  }
 ],
 "metadata": {
  "kernelspec": {
   "display_name": "Python 3",
   "language": "python",
   "name": "python3"
  },
  "language_info": {
   "codemirror_mode": {
    "name": "ipython",
    "version": 3
   },
   "file_extension": ".py",
   "mimetype": "text/x-python",
   "name": "python",
   "nbconvert_exporter": "python",
   "pygments_lexer": "ipython3",
   "version": "3.7.3"
  }
 },
 "nbformat": 4,
 "nbformat_minor": 5
}
