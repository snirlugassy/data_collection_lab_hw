{
 "cells": [
  {
   "cell_type": "code",
   "execution_count": 1,
   "id": "caa0befc",
   "metadata": {},
   "outputs": [
    {
     "name": "stderr",
     "output_type": "stream",
     "text": [
      "[nltk_data] Downloading package stopwords to\n",
      "[nltk_data]     C:\\Users\\snirlugassy\\AppData\\Roaming\\nltk_data...\n",
      "[nltk_data]   Package stopwords is already up-to-date!\n",
      "[nltk_data] Downloading package punkt to\n",
      "[nltk_data]     C:\\Users\\snirlugassy\\AppData\\Roaming\\nltk_data...\n",
      "[nltk_data]   Package punkt is already up-to-date!\n"
     ]
    }
   ],
   "source": [
    "import random\n",
    "import pickle\n",
    "\n",
    "import pandas as pd\n",
    "import numpy as np\n",
    "from sklearn.feature_extraction.text import TfidfVectorizer\n",
    "from sklearn.cluster import KMeans, MiniBatchKMeans\n",
    "from processing import normalize_text_series\n",
    "\n",
    "random.seed(42)\n",
    "\n",
    "# CONFIG\n",
    "CHUNK_SIZE = 100000\n",
    "VECTORIZER_PICKLE = 'vectorizer.pkl'\n",
    "CLUSTERING_PICKLE = 'clustering.pkl'\n",
    "INDUSTRIES_LIST = 'industries.txt'\n",
    "p = 0.1\n",
    "EPOCHS = 20\n",
    "VERBOSE = True\n",
    "\n",
    "labeled_data = 'labeled.csv'\n",
    "\n",
    "data_types = {\n",
    "    'text': str,\n",
    "    'industry': str,\n",
    "}"
   ]
  },
  {
   "cell_type": "code",
   "execution_count": null,
   "id": "4e9f077f",
   "metadata": {},
   "outputs": [],
   "source": [
    "print('Loading industries')\n",
    "industries = [x.strip() for x in open(INDUSTRIES_LIST,'r').readlines()]"
   ]
  },
  {
   "cell_type": "code",
   "execution_count": null,
   "id": "14286e6a",
   "metadata": {},
   "outputs": [],
   "source": [
    "print('Reading data')\n",
    "data = pd.read_csv(labeled_data, usecols=['text', 'industry'], dtype=data_types, engine='c')\n",
    "print('Number of samples texts: ', len(data))"
   ]
  },
  {
   "cell_type": "code",
   "execution_count": null,
   "id": "e899f5bb",
   "metadata": {},
   "outputs": [],
   "source": [
    "print('Normalizing data')\n",
    "data.reset_index(drop=True, inplace=True)\n",
    "data.text.replace(np.nan, \"\", inplace=True)"
   ]
  },
  {
   "cell_type": "code",
   "execution_count": null,
   "id": "b252bf67",
   "metadata": {},
   "outputs": [],
   "source": [
    "print('Loading TF-IDF Vectorizer')\n",
    "corpus = data.text\n",
    "\n",
    "print('Training Vectorizer texts')\n",
    "vectorizer = TfidfVectorizer()\n",
    "vectorizer.fit(corpus)"
   ]
  }
 ],
 "metadata": {
  "kernelspec": {
   "display_name": "Python 3 (ipykernel)",
   "language": "python",
   "name": "python3"
  },
  "language_info": {
   "codemirror_mode": {
    "name": "ipython",
    "version": 3
   },
   "file_extension": ".py",
   "mimetype": "text/x-python",
   "name": "python",
   "nbconvert_exporter": "python",
   "pygments_lexer": "ipython3",
   "version": "3.9.4"
  }
 },
 "nbformat": 4,
 "nbformat_minor": 5
}
