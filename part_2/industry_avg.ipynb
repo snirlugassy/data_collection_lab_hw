{
 "cells": [
  {
   "cell_type": "code",
   "execution_count": 2,
   "metadata": {},
   "outputs": [
    {
     "name": "stderr",
     "output_type": "stream",
     "text": [
      "[nltk_data] Downloading package stopwords to\n",
      "[nltk_data]     /home/snirlugassy/nltk_data...\n",
      "[nltk_data]   Package stopwords is already up-to-date!\n"
     ]
    }
   ],
   "source": [
    "\n",
    "import pickle\n",
    "import pandas as pd\n",
    "import numpy as np\n",
    "import nltk\n",
    "nltk.download('stopwords')\n",
    "\n",
    "CHUNK_SIZE = 50000\n",
    "STOPWORDS = nltk.corpus.stopwords.words('english')\n",
    "VECTORIZER_PICKLE = 'vectorizer.pkl'\n",
    "\n",
    "labeled_data = '../labeled.csv'\n",
    "\n",
    "data_types = {\n",
    "    'text': str,\n",
    "    'industry': str,\n",
    "}\n"
   ]
  },
  {
   "cell_type": "code",
   "execution_count": 4,
   "metadata": {},
   "outputs": [
    {
     "name": "stdout",
     "output_type": "stream",
     "text": [
      "Reading CSV file ../labeled.csv\n",
      "Replacing NaN text\n",
      "<class 'pandas.core.frame.DataFrame'>\n",
      "RangeIndex: 149543 entries, 0 to 149542\n",
      "Data columns (total 2 columns):\n",
      " #   Column    Non-Null Count   Dtype \n",
      "---  ------    --------------   ----- \n",
      " 0   text      149543 non-null  object\n",
      " 1   industry  149543 non-null  object\n",
      "dtypes: object(2)\n",
      "memory usage: 1.2 GB\n"
     ]
    }
   ],
   "source": [
    "import random\n",
    "\n",
    "p = 0.1\n",
    "\n",
    "print(f'Reading CSV file {labeled_data}')\n",
    "data = pd.read_csv(\n",
    "    labeled_data, \n",
    "    usecols=['text', 'industry'],\n",
    "    dtype=data_types,\n",
    "    engine='c',\n",
    "    # skiprows=lambda i: i>0 and random.random() > p\n",
    ")\n",
    "\n",
    "data.reset_index(drop=True, inplace=True)\n",
    "\n",
    "print('Replacing NaN text')\n",
    "data.text.replace(np.nan, \"\", inplace=True)\n",
    "data.info(memory_usage='deep')"
   ]
  },
  {
   "cell_type": "code",
   "execution_count": 5,
   "metadata": {},
   "outputs": [
    {
     "name": "stdout",
     "output_type": "stream",
     "text": [
      "Processing data for 147 industries\n"
     ]
    }
   ],
   "source": [
    "industries = data.industry.unique()\n",
    "num_of_industries = len(industries)\n",
    "print(f'Processing data for {num_of_industries} industries')"
   ]
  },
  {
   "cell_type": "code",
   "execution_count": 6,
   "metadata": {},
   "outputs": [
    {
     "name": "stdout",
     "output_type": "stream",
     "text": [
      "Training TF-IDF Vectorizer\n",
      "(149543, 2221511)\n",
      "Saving vectorizer to vectorizer.pkl\n"
     ]
    }
   ],
   "source": [
    "\n",
    "from sklearn.feature_extraction.text import TfidfVectorizer\n",
    "corpus = data.text\n",
    "\n",
    "vectorizer = TfidfVectorizer()\n",
    "\n",
    "print('Training TF-IDF Vectorizer')\n",
    "X = vectorizer.fit_transform(corpus)\n",
    "print(X.shape)\n",
    "\n",
    "print('Saving vectorizer to vectorizer.pkl')\n",
    "with open(\"vectorizer.pkl\", \"wb\") as f:\n",
    "    pickle.dump(vectorizer, f)"
   ]
  },
  {
   "cell_type": "code",
   "execution_count": 7,
   "metadata": {},
   "outputs": [
    {
     "name": "stdout",
     "output_type": "stream",
     "text": [
      "Shape: (147, 2221511)\n"
     ]
    },
    {
     "data": {
      "text/plain": [
       "matrix([[0.00395956, 0.00208052, 0.0002596 , ..., 0.        , 0.        ,\n",
       "         0.        ],\n",
       "        [0.00377378, 0.00624116, 0.00022793, ..., 0.        , 0.        ,\n",
       "         0.        ],\n",
       "        [0.00451886, 0.04115469, 0.0003954 , ..., 0.        , 0.        ,\n",
       "         0.        ],\n",
       "        ...,\n",
       "        [0.00730103, 0.00306777, 0.        , ..., 0.        , 0.        ,\n",
       "         0.        ],\n",
       "        [0.01470276, 0.        , 0.        , ..., 0.        , 0.        ,\n",
       "         0.        ],\n",
       "        [0.03056139, 0.        , 0.00062039, ..., 0.        , 0.        ,\n",
       "         0.        ]])"
      ]
     },
     "execution_count": 7,
     "metadata": {},
     "output_type": "execute_result"
    }
   ],
   "source": [
    "means = []\n",
    "\n",
    "for i in industries:\n",
    "    X_ind = X[data[data['industry']==i].index]\n",
    "    means.append(X_ind.mean(axis=0))\n",
    "\n",
    "means = np.stack(means)\n",
    "\n",
    "print(\"Shape:\", means.shape)\n",
    "\n",
    "means"
   ]
  },
  {
   "cell_type": "code",
   "execution_count": 8,
   "metadata": {},
   "outputs": [
    {
     "name": "stderr",
     "output_type": "stream",
     "text": [
      "/home/snirlugassy/Documents/School/Data Collection Lab/project/venv/lib/python3.9/site-packages/sklearn/utils/validation.py:585: FutureWarning: np.matrix usage is deprecated in 1.0 and will raise a TypeError in 1.2. Please convert to a numpy array with np.asarray. For more information see: https://numpy.org/doc/stable/reference/generated/numpy.matrix.html\n",
      "  warnings.warn(\n"
     ]
    },
    {
     "data": {
      "text/plain": [
       "array([[-0.07368057, -0.03553819],\n",
       "       [-0.09201687, -0.00190944],\n",
       "       [-0.0260695 , -0.00388377],\n",
       "       [-0.07342591, -0.01001886],\n",
       "       [-0.002846  , -0.02295098],\n",
       "       [-0.09095376, -0.00743257],\n",
       "       [-0.01427473,  0.06440704],\n",
       "       [-0.01689179, -0.05091672],\n",
       "       [ 0.00171541, -0.03225617],\n",
       "       [-0.01807899, -0.02533536],\n",
       "       [-0.03066962, -0.01520369],\n",
       "       [-0.01423833,  0.02839687],\n",
       "       [ 0.00486795, -0.04323672],\n",
       "       [-0.01536653, -0.0080908 ],\n",
       "       [ 0.01872521, -0.04712254],\n",
       "       [ 0.02173206,  0.01763781],\n",
       "       [-0.07893416, -0.01296639],\n",
       "       [-0.00477578, -0.0378379 ],\n",
       "       [ 0.06261907,  0.0120687 ],\n",
       "       [-0.04394686, -0.01264836],\n",
       "       [-0.00803235, -0.01657306],\n",
       "       [-0.03297508,  0.02925046],\n",
       "       [-0.06901819, -0.01213785],\n",
       "       [-0.03438783, -0.03921703],\n",
       "       [-0.02333588,  0.03095795],\n",
       "       [-0.0076203 ,  0.06722979],\n",
       "       [ 0.04867786, -0.02108296],\n",
       "       [-0.00588033,  0.01086939],\n",
       "       [ 0.03006678, -0.04475222],\n",
       "       [ 0.02466878, -0.03068735],\n",
       "       [-0.00617703,  0.0151253 ],\n",
       "       [-0.04967963, -0.04348042],\n",
       "       [-0.04839842,  0.01700564],\n",
       "       [ 0.0563951 , -0.03872745],\n",
       "       [ 0.06817788,  0.0060539 ],\n",
       "       [-0.00180144, -0.04008896],\n",
       "       [-0.02693384, -0.04227198],\n",
       "       [ 0.05819718, -0.01398817],\n",
       "       [-0.00058156,  0.05417082],\n",
       "       [-0.02515772,  0.03250367],\n",
       "       [-0.04960613, -0.00675093],\n",
       "       [ 0.00984671,  0.01059125],\n",
       "       [ 0.01268537,  0.02030312],\n",
       "       [ 0.02158513, -0.06066664],\n",
       "       [-0.04244215,  0.03308552],\n",
       "       [-0.02662971,  0.03335986],\n",
       "       [-0.00939558, -0.03905251],\n",
       "       [ 0.03354034,  0.03446001],\n",
       "       [ 0.04008861,  0.03062104],\n",
       "       [ 0.07827024, -0.00977535],\n",
       "       [ 0.02957935,  0.02271206],\n",
       "       [-0.07428426,  0.02427879],\n",
       "       [-0.01824264,  0.03747971],\n",
       "       [ 0.01777084, -0.0373171 ],\n",
       "       [ 0.00615576, -0.01469   ],\n",
       "       [ 0.00289468, -0.05201865],\n",
       "       [-0.0058713 , -0.02583767],\n",
       "       [ 0.02028967,  0.07696258],\n",
       "       [ 0.02467597, -0.0493353 ],\n",
       "       [ 0.03560041, -0.04656163],\n",
       "       [-0.04251455, -0.02522647],\n",
       "       [ 0.0408761 , -0.07524567],\n",
       "       [-0.06175639,  0.01876835],\n",
       "       [-0.07409112,  0.00234867],\n",
       "       [-0.0079266 , -0.039587  ],\n",
       "       [-0.0024601 ,  0.06256659],\n",
       "       [ 0.04101758, -0.06024724],\n",
       "       [ 0.04742259, -0.03249517],\n",
       "       [ 0.02070593, -0.05329928],\n",
       "       [ 0.0350082 ,  0.05833075],\n",
       "       [-0.01122578,  0.03091062],\n",
       "       [ 0.05002772, -0.00202081],\n",
       "       [ 0.07462908, -0.01249676],\n",
       "       [-0.08315025,  0.00102756],\n",
       "       [-0.06019784,  0.00466096],\n",
       "       [ 0.04978275,  0.01802931],\n",
       "       [ 0.00916758,  0.03585034],\n",
       "       [-0.00952676,  0.0631935 ],\n",
       "       [ 0.00948402, -0.00680075],\n",
       "       [-0.09308081, -0.00850695],\n",
       "       [-0.07227924,  0.02900852],\n",
       "       [-0.02286514,  0.06303615],\n",
       "       [-0.06717211, -0.00306402],\n",
       "       [ 0.02245355, -0.05024691],\n",
       "       [ 0.02933721, -0.00182922],\n",
       "       [-0.02359816,  0.01842718],\n",
       "       [ 0.04423655, -0.04481226],\n",
       "       [-0.00365861, -0.0171337 ],\n",
       "       [ 0.035306  , -0.02973178],\n",
       "       [ 0.04565658,  0.07996017],\n",
       "       [ 0.01281114,  0.08911063],\n",
       "       [ 0.03463829,  0.08174294],\n",
       "       [ 0.01551633, -0.03376186],\n",
       "       [ 0.03381651,  0.03019432],\n",
       "       [ 0.0302048 ,  0.01062042],\n",
       "       [-0.02345065, -0.00463547],\n",
       "       [-0.00864904, -0.04092785],\n",
       "       [ 0.02115913,  0.06099559],\n",
       "       [ 0.04957866, -0.0183197 ],\n",
       "       [-0.03232831,  0.00683376],\n",
       "       [ 0.07121474, -0.01475169],\n",
       "       [-0.0734668 , -0.03547072],\n",
       "       [ 0.01544587, -0.01886435],\n",
       "       [ 0.04820493, -0.00637408],\n",
       "       [ 0.04846067,  0.03020034],\n",
       "       [-0.01501662,  0.04331294],\n",
       "       [-0.02978721,  0.04853863],\n",
       "       [ 0.01315746, -0.06767059],\n",
       "       [ 0.02230116,  0.04453114],\n",
       "       [-0.00073558, -0.01783215],\n",
       "       [-0.07868816, -0.00795745],\n",
       "       [ 0.05050438, -0.01191467],\n",
       "       [ 0.02882023, -0.03541286],\n",
       "       [-0.05250649,  0.05270595],\n",
       "       [-0.05194376,  0.03750374],\n",
       "       [-0.01500252,  0.02814066],\n",
       "       [ 0.0454194 , -0.06442838],\n",
       "       [ 0.0256264 , -0.02455617],\n",
       "       [ 0.00052797,  0.01071451],\n",
       "       [ 0.01637615,  0.01456124],\n",
       "       [-0.01695176,  0.02521386],\n",
       "       [ 0.01614466, -0.02233434],\n",
       "       [-0.06735689, -0.04628328],\n",
       "       [-0.0016493 , -0.04498569],\n",
       "       [-0.0810604 , -0.0377728 ],\n",
       "       [ 0.02500411, -0.00285342],\n",
       "       [ 0.065111  ,  0.12414785],\n",
       "       [ 0.03074103, -0.04881114],\n",
       "       [ 0.0182243 ,  0.02766336],\n",
       "       [-0.02141785,  0.07056559],\n",
       "       [-0.05989654, -0.00613588],\n",
       "       [-0.02589089,  0.03761602],\n",
       "       [ 0.03208621,  0.01316665],\n",
       "       [ 0.0656339 , -0.05915566],\n",
       "       [-0.03432083, -0.0219576 ],\n",
       "       [-0.09179888, -0.00854523],\n",
       "       [ 0.026713  , -0.03623095],\n",
       "       [ 0.04256513,  0.00840453],\n",
       "       [ 0.03133338,  0.01579004],\n",
       "       [ 0.06732054, -0.01900784],\n",
       "       [-0.03191716,  0.05417545],\n",
       "       [ 0.01539277, -0.05655248],\n",
       "       [ 0.04665868, -0.00247692],\n",
       "       [ 0.04112143, -0.02888749],\n",
       "       [ 0.0454754 ,  0.04360872],\n",
       "       [ 0.07753539,  0.17656923],\n",
       "       [ 0.09717698, -0.0223036 ]])"
      ]
     },
     "execution_count": 8,
     "metadata": {},
     "output_type": "execute_result"
    }
   ],
   "source": [
    "from sklearn.decomposition import PCA\n",
    "\n",
    "pca = PCA(n_components=2)\n",
    "means2d = pca.fit_transform(means)\n",
    "\n",
    "means2d\n"
   ]
  },
  {
   "cell_type": "code",
   "execution_count": 9,
   "metadata": {},
   "outputs": [
    {
     "data": {
      "text/plain": [
       "<matplotlib.collections.PathCollection at 0x7f38b20b78b0>"
      ]
     },
     "execution_count": 9,
     "metadata": {},
     "output_type": "execute_result"
    },
    {
     "data": {
      "image/png": "[encoded data removed]",
      "text/plain": [
       "<Figure size 432x288 with 1 Axes>"
      ]
     },
     "metadata": {
      "needs_background": "light"
     },
     "output_type": "display_data"
    }
   ],
   "source": [
    "import matplotlib.pyplot as plt\n",
    "\n",
    "plt.scatter(means2d[:,0], means2d[:,1])"
   ]
  },
  {
   "cell_type": "code",
   "execution_count": 10,
   "metadata": {},
   "outputs": [
    {
     "data": {
      "text/plain": [
       "array([ 9,  3,  6,  3,  2,  3,  1, 16, 16,  6,  6, 11, 16,  2, 12, 13,  3,\n",
       "       16, 17,  6,  2, 11,  3,  6, 11,  1, 18, 19, 10, 10, 19,  9, 15, 18,\n",
       "       17, 16, 16, 17,  1, 11,  6, 19, 19, 12, 15, 11, 16,  8,  8,  5, 13,\n",
       "       15, 11, 10,  2, 16,  2,  4, 12, 10,  6,  0, 15,  3, 16,  1,  0, 18,\n",
       "       12,  4, 11, 17,  5,  3,  3,  8, 19,  1,  2,  3, 15,  1,  3, 12, 13,\n",
       "       11, 18,  2, 10,  4,  4,  4, 10,  8, 13,  6, 16,  4, 17, 11,  5,  9,\n",
       "        2, 17,  8,  1,  1, 12,  8,  2,  3, 17, 10, 15, 15, 11,  0, 10, 19,\n",
       "       19, 11,  2,  9, 16,  9, 13, 14, 10, 19,  1,  3, 11, 13,  0,  6,  3,\n",
       "       10, 13, 13,  5,  1, 12, 17, 18,  8,  7,  5], dtype=int32)"
      ]
     },
     "execution_count": 10,
     "metadata": {},
     "output_type": "execute_result"
    }
   ],
   "source": [
    "from sklearn.cluster import KMeans, Birch, MiniBatchKMeans\n",
    "\n",
    "clustering = KMeans(\n",
    "    n_clusters=20,\n",
    ")\n",
    "\n",
    "y = clustering.fit_predict(means2d)\n",
    "y"
   ]
  },
  {
   "cell_type": "code",
   "execution_count": 11,
   "metadata": {},
   "outputs": [
    {
     "data": {
      "text/plain": [
       "<matplotlib.collections.PathCollection at 0x7f38b1a8fbb0>"
      ]
     },
     "execution_count": 11,
     "metadata": {},
     "output_type": "execute_result"
    },
    {
     "data": {
      "image/png": "[encoded data removed]",
      "text/plain": [
       "<Figure size 432x288 with 1 Axes>"
      ]
     },
     "metadata": {
      "needs_background": "light"
     },
     "output_type": "display_data"
    }
   ],
   "source": [
    "plt.scatter(means2d[:,0], means2d[:,1], c=y)"
   ]
  },
  {
   "cell_type": "code",
   "execution_count": null,
   "metadata": {},
   "outputs": [],
   "source": [
    "print('Calculating cluster majority per industry')\n",
    "cluster_ind = data[['cluster', 'industry']].groupby(['industry']).agg(lambda x:x.value_counts().index[0])\n",
    "cluster_ind = cluster_ind.cluster.to_dict()\n",
    "print(cluster_ind)\n",
    "\n",
    "_cluster_dist = np.zeros(20)\n",
    "for i,c in cluster_ind.items():\n",
    "    _cluster_dist[c] += 1\n",
    "_cluster_dist /= sum(_cluster_dist)\n",
    "print('cluster size in %: \\n' , _cluster_dist*100)"
   ]
  }
 ],
 "metadata": {
  "kernelspec": {
   "display_name": "Python 3",
   "language": "python",
   "name": "python3"
  },
  "language_info": {
   "codemirror_mode": {
    "name": "ipython",
    "version": 3
   },
   "file_extension": ".py",
   "mimetype": "text/x-python",
   "name": "python",
   "nbconvert_exporter": "python",
   "pygments_lexer": "ipython3",
   "version": "3.7.3"
  }
 },
 "nbformat": 4,
 "nbformat_minor": 5
}
